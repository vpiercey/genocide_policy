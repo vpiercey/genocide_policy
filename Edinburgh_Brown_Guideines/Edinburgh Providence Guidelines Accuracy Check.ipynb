{
 "cells": [
  {
   "cell_type": "code",
   "execution_count": 152,
   "id": "f324261b",
   "metadata": {},
   "outputs": [],
   "source": [
    "import numpy as np\n",
    "import matplotlib.pyplot as plt\n",
    "import pandas as pd\n",
    "from sklearn.model_selection import train_test_split\n",
    "from sklearn.linear_model import LogisticRegression\n",
    "from sklearn.ensemble import RandomForestClassifier\n",
    "from sklearn.metrics import accuracy_score, confusion_matrix, precision_score, recall_score, ConfusionMatrixDisplay\n",
    "import os"
   ]
  },
  {
   "cell_type": "code",
   "execution_count": 5,
   "id": "8e833950",
   "metadata": {},
   "outputs": [],
   "source": [
    "path = \"C:\\\\Users\\\\piercev1\\\\Documents\\\\Research\\\\Providence_Edinburgh_Genocide_Guidelines\""
   ]
  },
  {
   "cell_type": "code",
   "execution_count": 7,
   "id": "55d538e8",
   "metadata": {},
   "outputs": [],
   "source": [
    "df = pd.read_excel(os.path.join(path, \"ewp_final_excel_June_24_2024.xlsx\"))"
   ]
  },
  {
   "cell_type": "code",
   "execution_count": 8,
   "id": "c7595b6e",
   "metadata": {},
   "outputs": [
    {
     "data": {
      "text/html": [
       "<div>\n",
       "<style scoped>\n",
       "    .dataframe tbody tr th:only-of-type {\n",
       "        vertical-align: middle;\n",
       "    }\n",
       "\n",
       "    .dataframe tbody tr th {\n",
       "        vertical-align: top;\n",
       "    }\n",
       "\n",
       "    .dataframe thead th {\n",
       "        text-align: right;\n",
       "    }\n",
       "</style>\n",
       "<table border=\"1\" class=\"dataframe\">\n",
       "  <thead>\n",
       "    <tr style=\"text-align: right;\">\n",
       "      <th></th>\n",
       "      <th>country</th>\n",
       "      <th>COW</th>\n",
       "      <th>year</th>\n",
       "      <th>anymk.ongoing</th>\n",
       "      <th>anymk.ever</th>\n",
       "      <th>freemove_men4</th>\n",
       "      <th>freemove_women4</th>\n",
       "      <th>reg.mna</th>\n",
       "      <th>reg.eap</th>\n",
       "      <th>reg.afr</th>\n",
       "      <th>...</th>\n",
       "      <th>ses_power_dist</th>\n",
       "      <th>gdppcgrowth.combined</th>\n",
       "      <th>popsize.ln.combined</th>\n",
       "      <th>tradeshare.ln.combined</th>\n",
       "      <th>religiousfreedom</th>\n",
       "      <th>countryage.ln</th>\n",
       "      <th>battledeaths.ln</th>\n",
       "      <th>coercive_control</th>\n",
       "      <th>existential_threat</th>\n",
       "      <th>id_target_gps</th>\n",
       "    </tr>\n",
       "  </thead>\n",
       "  <tbody>\n",
       "    <tr>\n",
       "      <th>0</th>\n",
       "      <td>Afghanistan</td>\n",
       "      <td>700</td>\n",
       "      <td>2020</td>\n",
       "      <td>1</td>\n",
       "      <td>1</td>\n",
       "      <td>0</td>\n",
       "      <td>0</td>\n",
       "      <td>0</td>\n",
       "      <td>0</td>\n",
       "      <td>0</td>\n",
       "      <td>...</td>\n",
       "      <td>-0.910</td>\n",
       "      <td>0.001816</td>\n",
       "      <td>17.427736</td>\n",
       "      <td>-2.359148</td>\n",
       "      <td>2</td>\n",
       "      <td>4.605170</td>\n",
       "      <td>10.153468</td>\n",
       "      <td>1</td>\n",
       "      <td>0</td>\n",
       "      <td>1</td>\n",
       "    </tr>\n",
       "    <tr>\n",
       "      <th>1</th>\n",
       "      <td>Democratic Republic of Congo</td>\n",
       "      <td>490</td>\n",
       "      <td>2020</td>\n",
       "      <td>1</td>\n",
       "      <td>1</td>\n",
       "      <td>0</td>\n",
       "      <td>0</td>\n",
       "      <td>0</td>\n",
       "      <td>0</td>\n",
       "      <td>1</td>\n",
       "      <td>...</td>\n",
       "      <td>-0.695</td>\n",
       "      <td>0.040775</td>\n",
       "      <td>18.240043</td>\n",
       "      <td>-2.083498</td>\n",
       "      <td>3</td>\n",
       "      <td>4.077537</td>\n",
       "      <td>6.042633</td>\n",
       "      <td>0</td>\n",
       "      <td>0</td>\n",
       "      <td>0</td>\n",
       "    </tr>\n",
       "    <tr>\n",
       "      <th>2</th>\n",
       "      <td>Pakistan</td>\n",
       "      <td>770</td>\n",
       "      <td>2020</td>\n",
       "      <td>1</td>\n",
       "      <td>1</td>\n",
       "      <td>0</td>\n",
       "      <td>0</td>\n",
       "      <td>0</td>\n",
       "      <td>0</td>\n",
       "      <td>0</td>\n",
       "      <td>...</td>\n",
       "      <td>-1.337</td>\n",
       "      <td>0.038073</td>\n",
       "      <td>19.164214</td>\n",
       "      <td>-3.111684</td>\n",
       "      <td>1</td>\n",
       "      <td>4.276666</td>\n",
       "      <td>5.293305</td>\n",
       "      <td>1</td>\n",
       "      <td>0</td>\n",
       "      <td>1</td>\n",
       "    </tr>\n",
       "    <tr>\n",
       "      <th>3</th>\n",
       "      <td>South Sudan</td>\n",
       "      <td>626</td>\n",
       "      <td>2020</td>\n",
       "      <td>1</td>\n",
       "      <td>1</td>\n",
       "      <td>0</td>\n",
       "      <td>0</td>\n",
       "      <td>0</td>\n",
       "      <td>0</td>\n",
       "      <td>1</td>\n",
       "      <td>...</td>\n",
       "      <td>-1.664</td>\n",
       "      <td>-0.006500</td>\n",
       "      <td>16.223777</td>\n",
       "      <td>-1.570666</td>\n",
       "      <td>2</td>\n",
       "      <td>2.079442</td>\n",
       "      <td>6.285998</td>\n",
       "      <td>0</td>\n",
       "      <td>0</td>\n",
       "      <td>0</td>\n",
       "    </tr>\n",
       "    <tr>\n",
       "      <th>4</th>\n",
       "      <td>Sudan</td>\n",
       "      <td>625</td>\n",
       "      <td>2020</td>\n",
       "      <td>1</td>\n",
       "      <td>1</td>\n",
       "      <td>0</td>\n",
       "      <td>0</td>\n",
       "      <td>0</td>\n",
       "      <td>0</td>\n",
       "      <td>1</td>\n",
       "      <td>...</td>\n",
       "      <td>-0.241</td>\n",
       "      <td>-0.025805</td>\n",
       "      <td>17.544358</td>\n",
       "      <td>-3.347368</td>\n",
       "      <td>1</td>\n",
       "      <td>4.143135</td>\n",
       "      <td>5.509388</td>\n",
       "      <td>0</td>\n",
       "      <td>0</td>\n",
       "      <td>0</td>\n",
       "    </tr>\n",
       "  </tbody>\n",
       "</table>\n",
       "<p>5 rows × 38 columns</p>\n",
       "</div>"
      ],
      "text/plain": [
       "                        country  COW  year  anymk.ongoing  anymk.ever  \\\n",
       "0                   Afghanistan  700  2020              1           1   \n",
       "1  Democratic Republic of Congo  490  2020              1           1   \n",
       "2                      Pakistan  770  2020              1           1   \n",
       "3                   South Sudan  626  2020              1           1   \n",
       "4                         Sudan  625  2020              1           1   \n",
       "\n",
       "   freemove_men4  freemove_women4  reg.mna  reg.eap  reg.afr  ...  \\\n",
       "0              0                0        0        0        0  ...   \n",
       "1              0                0        0        0        1  ...   \n",
       "2              0                0        0        0        0  ...   \n",
       "3              0                0        0        0        1  ...   \n",
       "4              0                0        0        0        1  ...   \n",
       "\n",
       "   ses_power_dist  gdppcgrowth.combined popsize.ln.combined  \\\n",
       "0          -0.910              0.001816           17.427736   \n",
       "1          -0.695              0.040775           18.240043   \n",
       "2          -1.337              0.038073           19.164214   \n",
       "3          -1.664             -0.006500           16.223777   \n",
       "4          -0.241             -0.025805           17.544358   \n",
       "\n",
       "   tradeshare.ln.combined  religiousfreedom  countryage.ln  battledeaths.ln  \\\n",
       "0               -2.359148                 2       4.605170        10.153468   \n",
       "1               -2.083498                 3       4.077537         6.042633   \n",
       "2               -3.111684                 1       4.276666         5.293305   \n",
       "3               -1.570666                 2       2.079442         6.285998   \n",
       "4               -3.347368                 1       4.143135         5.509388   \n",
       "\n",
       "   coercive_control  existential_threat  id_target_gps  \n",
       "0                 1                   0              1  \n",
       "1                 0                   0              0  \n",
       "2                 1                   0              1  \n",
       "3                 0                   0              0  \n",
       "4                 0                   0              0  \n",
       "\n",
       "[5 rows x 38 columns]"
      ]
     },
     "execution_count": 8,
     "metadata": {},
     "output_type": "execute_result"
    }
   ],
   "source": [
    "df.head()"
   ]
  },
  {
   "cell_type": "code",
   "execution_count": 9,
   "id": "ef05402a",
   "metadata": {},
   "outputs": [
    {
     "data": {
      "text/plain": [
       "0.2868525896414343"
      ]
     },
     "execution_count": 9,
     "metadata": {},
     "output_type": "execute_result"
    }
   ],
   "source": [
    "df.coercive_control.sum()/len(df)"
   ]
  },
  {
   "cell_type": "code",
   "execution_count": 10,
   "id": "decd4dbf",
   "metadata": {},
   "outputs": [
    {
     "data": {
      "text/plain": [
       "0.1752988047808765"
      ]
     },
     "execution_count": 10,
     "metadata": {},
     "output_type": "execute_result"
    }
   ],
   "source": [
    "df.existential_threat.sum()/len(df)"
   ]
  },
  {
   "cell_type": "code",
   "execution_count": 11,
   "id": "329748f7",
   "metadata": {},
   "outputs": [
    {
     "data": {
      "text/plain": [
       "0.27091633466135456"
      ]
     },
     "execution_count": 11,
     "metadata": {},
     "output_type": "execute_result"
    }
   ],
   "source": [
    "df.id_target_gps.sum()/len(df)"
   ]
  },
  {
   "cell_type": "code",
   "execution_count": 13,
   "id": "9e65e5c0",
   "metadata": {},
   "outputs": [
    {
     "name": "stdout",
     "output_type": "stream",
     "text": [
      "72\n",
      "44\n",
      "68\n"
     ]
    }
   ],
   "source": [
    "print(df.coercive_control.sum())\n",
    "print(df.existential_threat.sum())\n",
    "print(df.id_target_gps.sum())"
   ]
  },
  {
   "cell_type": "code",
   "execution_count": 18,
   "id": "379e37b6",
   "metadata": {},
   "outputs": [],
   "source": [
    "X = df.iloc[:,3:-3]"
   ]
  },
  {
   "cell_type": "code",
   "execution_count": 25,
   "id": "af4e06b9",
   "metadata": {},
   "outputs": [],
   "source": [
    "X = X.drop('SFTGcode', axis = 1)"
   ]
  },
  {
   "cell_type": "code",
   "execution_count": null,
   "id": "fa65ddf3",
   "metadata": {},
   "outputs": [],
   "source": []
  },
  {
   "cell_type": "code",
   "execution_count": 19,
   "id": "6baee60c",
   "metadata": {},
   "outputs": [],
   "source": [
    "Y_1 = df.iloc[:,-3]"
   ]
  },
  {
   "cell_type": "code",
   "execution_count": 26,
   "id": "68163795",
   "metadata": {},
   "outputs": [],
   "source": [
    "X_train, X_test, Y_train, Y_test = train_test_split(X, Y_1, test_size = 0.5)"
   ]
  },
  {
   "cell_type": "code",
   "execution_count": 27,
   "id": "7b557373",
   "metadata": {},
   "outputs": [],
   "source": [
    "model = LogisticRegression()"
   ]
  },
  {
   "cell_type": "code",
   "execution_count": 28,
   "id": "5400fb8f",
   "metadata": {},
   "outputs": [
    {
     "name": "stderr",
     "output_type": "stream",
     "text": [
      "C:\\Users\\piercev1\\AppData\\Local\\anaconda3\\Lib\\site-packages\\sklearn\\linear_model\\_logistic.py:460: ConvergenceWarning: lbfgs failed to converge (status=1):\n",
      "STOP: TOTAL NO. of ITERATIONS REACHED LIMIT.\n",
      "\n",
      "Increase the number of iterations (max_iter) or scale the data as shown in:\n",
      "    https://scikit-learn.org/stable/modules/preprocessing.html\n",
      "Please also refer to the documentation for alternative solver options:\n",
      "    https://scikit-learn.org/stable/modules/linear_model.html#logistic-regression\n",
      "  n_iter_i = _check_optimize_result(\n"
     ]
    },
    {
     "data": {
      "text/html": [
       "<style>#sk-container-id-1 {color: black;}#sk-container-id-1 pre{padding: 0;}#sk-container-id-1 div.sk-toggleable {background-color: white;}#sk-container-id-1 label.sk-toggleable__label {cursor: pointer;display: block;width: 100%;margin-bottom: 0;padding: 0.3em;box-sizing: border-box;text-align: center;}#sk-container-id-1 label.sk-toggleable__label-arrow:before {content: \"▸\";float: left;margin-right: 0.25em;color: #696969;}#sk-container-id-1 label.sk-toggleable__label-arrow:hover:before {color: black;}#sk-container-id-1 div.sk-estimator:hover label.sk-toggleable__label-arrow:before {color: black;}#sk-container-id-1 div.sk-toggleable__content {max-height: 0;max-width: 0;overflow: hidden;text-align: left;background-color: #f0f8ff;}#sk-container-id-1 div.sk-toggleable__content pre {margin: 0.2em;color: black;border-radius: 0.25em;background-color: #f0f8ff;}#sk-container-id-1 input.sk-toggleable__control:checked~div.sk-toggleable__content {max-height: 200px;max-width: 100%;overflow: auto;}#sk-container-id-1 input.sk-toggleable__control:checked~label.sk-toggleable__label-arrow:before {content: \"▾\";}#sk-container-id-1 div.sk-estimator input.sk-toggleable__control:checked~label.sk-toggleable__label {background-color: #d4ebff;}#sk-container-id-1 div.sk-label input.sk-toggleable__control:checked~label.sk-toggleable__label {background-color: #d4ebff;}#sk-container-id-1 input.sk-hidden--visually {border: 0;clip: rect(1px 1px 1px 1px);clip: rect(1px, 1px, 1px, 1px);height: 1px;margin: -1px;overflow: hidden;padding: 0;position: absolute;width: 1px;}#sk-container-id-1 div.sk-estimator {font-family: monospace;background-color: #f0f8ff;border: 1px dotted black;border-radius: 0.25em;box-sizing: border-box;margin-bottom: 0.5em;}#sk-container-id-1 div.sk-estimator:hover {background-color: #d4ebff;}#sk-container-id-1 div.sk-parallel-item::after {content: \"\";width: 100%;border-bottom: 1px solid gray;flex-grow: 1;}#sk-container-id-1 div.sk-label:hover label.sk-toggleable__label {background-color: #d4ebff;}#sk-container-id-1 div.sk-serial::before {content: \"\";position: absolute;border-left: 1px solid gray;box-sizing: border-box;top: 0;bottom: 0;left: 50%;z-index: 0;}#sk-container-id-1 div.sk-serial {display: flex;flex-direction: column;align-items: center;background-color: white;padding-right: 0.2em;padding-left: 0.2em;position: relative;}#sk-container-id-1 div.sk-item {position: relative;z-index: 1;}#sk-container-id-1 div.sk-parallel {display: flex;align-items: stretch;justify-content: center;background-color: white;position: relative;}#sk-container-id-1 div.sk-item::before, #sk-container-id-1 div.sk-parallel-item::before {content: \"\";position: absolute;border-left: 1px solid gray;box-sizing: border-box;top: 0;bottom: 0;left: 50%;z-index: -1;}#sk-container-id-1 div.sk-parallel-item {display: flex;flex-direction: column;z-index: 1;position: relative;background-color: white;}#sk-container-id-1 div.sk-parallel-item:first-child::after {align-self: flex-end;width: 50%;}#sk-container-id-1 div.sk-parallel-item:last-child::after {align-self: flex-start;width: 50%;}#sk-container-id-1 div.sk-parallel-item:only-child::after {width: 0;}#sk-container-id-1 div.sk-dashed-wrapped {border: 1px dashed gray;margin: 0 0.4em 0.5em 0.4em;box-sizing: border-box;padding-bottom: 0.4em;background-color: white;}#sk-container-id-1 div.sk-label label {font-family: monospace;font-weight: bold;display: inline-block;line-height: 1.2em;}#sk-container-id-1 div.sk-label-container {text-align: center;}#sk-container-id-1 div.sk-container {/* jupyter's `normalize.less` sets `[hidden] { display: none; }` but bootstrap.min.css set `[hidden] { display: none !important; }` so we also need the `!important` here to be able to override the default hidden behavior on the sphinx rendered scikit-learn.org. See: https://github.com/scikit-learn/scikit-learn/issues/21755 */display: inline-block !important;position: relative;}#sk-container-id-1 div.sk-text-repr-fallback {display: none;}</style><div id=\"sk-container-id-1\" class=\"sk-top-container\"><div class=\"sk-text-repr-fallback\"><pre>LogisticRegression()</pre><b>In a Jupyter environment, please rerun this cell to show the HTML representation or trust the notebook. <br />On GitHub, the HTML representation is unable to render, please try loading this page with nbviewer.org.</b></div><div class=\"sk-container\" hidden><div class=\"sk-item\"><div class=\"sk-estimator sk-toggleable\"><input class=\"sk-toggleable__control sk-hidden--visually\" id=\"sk-estimator-id-1\" type=\"checkbox\" checked><label for=\"sk-estimator-id-1\" class=\"sk-toggleable__label sk-toggleable__label-arrow\">LogisticRegression</label><div class=\"sk-toggleable__content\"><pre>LogisticRegression()</pre></div></div></div></div></div>"
      ],
      "text/plain": [
       "LogisticRegression()"
      ]
     },
     "execution_count": 28,
     "metadata": {},
     "output_type": "execute_result"
    }
   ],
   "source": [
    "model.fit(X_train, Y_train)"
   ]
  },
  {
   "cell_type": "code",
   "execution_count": 33,
   "id": "83e4342a",
   "metadata": {},
   "outputs": [],
   "source": [
    "y_pred = model.predict(X_test)"
   ]
  },
  {
   "cell_type": "code",
   "execution_count": 34,
   "id": "a1313698",
   "metadata": {},
   "outputs": [],
   "source": [
    "acc = accuracy_score(Y_test, y_pred)"
   ]
  },
  {
   "cell_type": "code",
   "execution_count": 35,
   "id": "9ad27bd6",
   "metadata": {},
   "outputs": [
    {
     "name": "stdout",
     "output_type": "stream",
     "text": [
      "0.7619047619047619\n"
     ]
    }
   ],
   "source": [
    "print(acc)"
   ]
  },
  {
   "cell_type": "code",
   "execution_count": 38,
   "id": "0b04619b",
   "metadata": {},
   "outputs": [
    {
     "name": "stdout",
     "output_type": "stream",
     "text": [
      "0.7412935323383084\n"
     ]
    },
    {
     "name": "stderr",
     "output_type": "stream",
     "text": [
      "C:\\Users\\piercev1\\AppData\\Local\\anaconda3\\Lib\\site-packages\\sklearn\\linear_model\\_logistic.py:460: ConvergenceWarning: lbfgs failed to converge (status=1):\n",
      "STOP: TOTAL NO. of ITERATIONS REACHED LIMIT.\n",
      "\n",
      "Increase the number of iterations (max_iter) or scale the data as shown in:\n",
      "    https://scikit-learn.org/stable/modules/preprocessing.html\n",
      "Please also refer to the documentation for alternative solver options:\n",
      "    https://scikit-learn.org/stable/modules/linear_model.html#logistic-regression\n",
      "  n_iter_i = _check_optimize_result(\n"
     ]
    }
   ],
   "source": [
    "X_train, X_test, Y_train, Y_test = train_test_split(X, Y_1, test_size = 0.8)\n",
    "model = LogisticRegression()\n",
    "model.fit(X_train, Y_train)\n",
    "y_pred = model.predict(X_test)\n",
    "print(accuracy_score(Y_test, y_pred))"
   ]
  },
  {
   "cell_type": "code",
   "execution_count": 222,
   "id": "3e716822",
   "metadata": {},
   "outputs": [],
   "source": [
    "def guidelines_accuracy(Y, t):\n",
    "    X_train, X_test, Y_train, Y_test = train_test_split(X, Y, test_size = t, stratify=Y)\n",
    "    model = LogisticRegression(max_iter = 1000)\n",
    "    model.fit(X_train, Y_train)\n",
    "    y_pred = model.predict(X_test)\n",
    "    return accuracy_score(Y_test, y_pred)\n",
    "    "
   ]
  },
  {
   "cell_type": "code",
   "execution_count": 202,
   "id": "5fd1b192",
   "metadata": {},
   "outputs": [
    {
     "name": "stdout",
     "output_type": "stream",
     "text": [
      "0.7698412698412699\n",
      "0.7682119205298014\n",
      "0.8068181818181818\n",
      "0.7661691542288557\n",
      "0.7920353982300885\n"
     ]
    }
   ],
   "source": [
    "for T in range(5,10):\n",
    "    t = T/10\n",
    "    print(guidelines_accuracy(Y_1, t))"
   ]
  },
  {
   "cell_type": "code",
   "execution_count": 53,
   "id": "b0d6f404",
   "metadata": {},
   "outputs": [],
   "source": [
    "Y_2 = df.iloc[:,-2]"
   ]
  },
  {
   "cell_type": "code",
   "execution_count": 54,
   "id": "d6998f1e",
   "metadata": {},
   "outputs": [],
   "source": [
    "Y_3 = df.iloc[:,-1]"
   ]
  },
  {
   "cell_type": "code",
   "execution_count": 57,
   "id": "a0f6c404",
   "metadata": {},
   "outputs": [
    {
     "name": "stdout",
     "output_type": "stream",
     "text": [
      "0.8015873015873016\n",
      "0.8278145695364238\n",
      "0.8693181818181818\n",
      "0.8706467661691543\n",
      "0.7522123893805309\n"
     ]
    },
    {
     "name": "stderr",
     "output_type": "stream",
     "text": [
      "C:\\Users\\piercev1\\AppData\\Local\\anaconda3\\Lib\\site-packages\\sklearn\\linear_model\\_logistic.py:460: ConvergenceWarning: lbfgs failed to converge (status=1):\n",
      "STOP: TOTAL NO. of ITERATIONS REACHED LIMIT.\n",
      "\n",
      "Increase the number of iterations (max_iter) or scale the data as shown in:\n",
      "    https://scikit-learn.org/stable/modules/preprocessing.html\n",
      "Please also refer to the documentation for alternative solver options:\n",
      "    https://scikit-learn.org/stable/modules/linear_model.html#logistic-regression\n",
      "  n_iter_i = _check_optimize_result(\n",
      "C:\\Users\\piercev1\\AppData\\Local\\anaconda3\\Lib\\site-packages\\sklearn\\linear_model\\_logistic.py:460: ConvergenceWarning: lbfgs failed to converge (status=1):\n",
      "STOP: TOTAL NO. of ITERATIONS REACHED LIMIT.\n",
      "\n",
      "Increase the number of iterations (max_iter) or scale the data as shown in:\n",
      "    https://scikit-learn.org/stable/modules/preprocessing.html\n",
      "Please also refer to the documentation for alternative solver options:\n",
      "    https://scikit-learn.org/stable/modules/linear_model.html#logistic-regression\n",
      "  n_iter_i = _check_optimize_result(\n",
      "C:\\Users\\piercev1\\AppData\\Local\\anaconda3\\Lib\\site-packages\\sklearn\\linear_model\\_logistic.py:460: ConvergenceWarning: lbfgs failed to converge (status=1):\n",
      "STOP: TOTAL NO. of ITERATIONS REACHED LIMIT.\n",
      "\n",
      "Increase the number of iterations (max_iter) or scale the data as shown in:\n",
      "    https://scikit-learn.org/stable/modules/preprocessing.html\n",
      "Please also refer to the documentation for alternative solver options:\n",
      "    https://scikit-learn.org/stable/modules/linear_model.html#logistic-regression\n",
      "  n_iter_i = _check_optimize_result(\n",
      "C:\\Users\\piercev1\\AppData\\Local\\anaconda3\\Lib\\site-packages\\sklearn\\linear_model\\_logistic.py:460: ConvergenceWarning: lbfgs failed to converge (status=1):\n",
      "STOP: TOTAL NO. of ITERATIONS REACHED LIMIT.\n",
      "\n",
      "Increase the number of iterations (max_iter) or scale the data as shown in:\n",
      "    https://scikit-learn.org/stable/modules/preprocessing.html\n",
      "Please also refer to the documentation for alternative solver options:\n",
      "    https://scikit-learn.org/stable/modules/linear_model.html#logistic-regression\n",
      "  n_iter_i = _check_optimize_result(\n"
     ]
    }
   ],
   "source": [
    "for T in range(5,10):\n",
    "    t = T/10\n",
    "    guidelines_accuracy(Y_2, t)"
   ]
  },
  {
   "cell_type": "code",
   "execution_count": 60,
   "id": "21f1024b",
   "metadata": {},
   "outputs": [
    {
     "name": "stdout",
     "output_type": "stream",
     "text": [
      "0.8095238095238095\n",
      "0.8079470198675497\n",
      "0.8068181818181818\n",
      "0.736318407960199\n",
      "0.7522123893805309\n"
     ]
    },
    {
     "name": "stderr",
     "output_type": "stream",
     "text": [
      "C:\\Users\\piercev1\\AppData\\Local\\anaconda3\\Lib\\site-packages\\sklearn\\linear_model\\_logistic.py:460: ConvergenceWarning: lbfgs failed to converge (status=1):\n",
      "STOP: TOTAL NO. of ITERATIONS REACHED LIMIT.\n",
      "\n",
      "Increase the number of iterations (max_iter) or scale the data as shown in:\n",
      "    https://scikit-learn.org/stable/modules/preprocessing.html\n",
      "Please also refer to the documentation for alternative solver options:\n",
      "    https://scikit-learn.org/stable/modules/linear_model.html#logistic-regression\n",
      "  n_iter_i = _check_optimize_result(\n",
      "C:\\Users\\piercev1\\AppData\\Local\\anaconda3\\Lib\\site-packages\\sklearn\\linear_model\\_logistic.py:460: ConvergenceWarning: lbfgs failed to converge (status=1):\n",
      "STOP: TOTAL NO. of ITERATIONS REACHED LIMIT.\n",
      "\n",
      "Increase the number of iterations (max_iter) or scale the data as shown in:\n",
      "    https://scikit-learn.org/stable/modules/preprocessing.html\n",
      "Please also refer to the documentation for alternative solver options:\n",
      "    https://scikit-learn.org/stable/modules/linear_model.html#logistic-regression\n",
      "  n_iter_i = _check_optimize_result(\n",
      "C:\\Users\\piercev1\\AppData\\Local\\anaconda3\\Lib\\site-packages\\sklearn\\linear_model\\_logistic.py:460: ConvergenceWarning: lbfgs failed to converge (status=1):\n",
      "STOP: TOTAL NO. of ITERATIONS REACHED LIMIT.\n",
      "\n",
      "Increase the number of iterations (max_iter) or scale the data as shown in:\n",
      "    https://scikit-learn.org/stable/modules/preprocessing.html\n",
      "Please also refer to the documentation for alternative solver options:\n",
      "    https://scikit-learn.org/stable/modules/linear_model.html#logistic-regression\n",
      "  n_iter_i = _check_optimize_result(\n",
      "C:\\Users\\piercev1\\AppData\\Local\\anaconda3\\Lib\\site-packages\\sklearn\\linear_model\\_logistic.py:460: ConvergenceWarning: lbfgs failed to converge (status=1):\n",
      "STOP: TOTAL NO. of ITERATIONS REACHED LIMIT.\n",
      "\n",
      "Increase the number of iterations (max_iter) or scale the data as shown in:\n",
      "    https://scikit-learn.org/stable/modules/preprocessing.html\n",
      "Please also refer to the documentation for alternative solver options:\n",
      "    https://scikit-learn.org/stable/modules/linear_model.html#logistic-regression\n",
      "  n_iter_i = _check_optimize_result(\n"
     ]
    }
   ],
   "source": [
    "for T in range(5,10):\n",
    "    t = T/10\n",
    "    guidelines_accuracy(Y_3, t)"
   ]
  },
  {
   "cell_type": "code",
   "execution_count": 61,
   "id": "3c2dffc8",
   "metadata": {},
   "outputs": [],
   "source": [
    "Y_1random = np.random.permutation(Y_1)"
   ]
  },
  {
   "cell_type": "code",
   "execution_count": 63,
   "id": "b0e3996e",
   "metadata": {},
   "outputs": [
    {
     "data": {
      "text/plain": [
       "0     -1\n",
       "1      0\n",
       "2     -1\n",
       "3      0\n",
       "4      1\n",
       "      ..\n",
       "246    1\n",
       "247    1\n",
       "248    0\n",
       "249    0\n",
       "250    0\n",
       "Name: coercive_control, Length: 251, dtype: int64"
      ]
     },
     "execution_count": 63,
     "metadata": {},
     "output_type": "execute_result"
    }
   ],
   "source": []
  },
  {
   "cell_type": "code",
   "execution_count": 73,
   "id": "840bec02",
   "metadata": {},
   "outputs": [
    {
     "name": "stdout",
     "output_type": "stream",
     "text": [
      "0.5793650793650794\n",
      "0.6688741721854304\n",
      "0.6193181818181818\n",
      "0.5870646766169154\n",
      "0.6061946902654868\n"
     ]
    },
    {
     "name": "stderr",
     "output_type": "stream",
     "text": [
      "C:\\Users\\piercev1\\AppData\\Local\\anaconda3\\Lib\\site-packages\\sklearn\\linear_model\\_logistic.py:460: ConvergenceWarning: lbfgs failed to converge (status=1):\n",
      "STOP: TOTAL NO. of ITERATIONS REACHED LIMIT.\n",
      "\n",
      "Increase the number of iterations (max_iter) or scale the data as shown in:\n",
      "    https://scikit-learn.org/stable/modules/preprocessing.html\n",
      "Please also refer to the documentation for alternative solver options:\n",
      "    https://scikit-learn.org/stable/modules/linear_model.html#logistic-regression\n",
      "  n_iter_i = _check_optimize_result(\n",
      "C:\\Users\\piercev1\\AppData\\Local\\anaconda3\\Lib\\site-packages\\sklearn\\linear_model\\_logistic.py:460: ConvergenceWarning: lbfgs failed to converge (status=1):\n",
      "STOP: TOTAL NO. of ITERATIONS REACHED LIMIT.\n",
      "\n",
      "Increase the number of iterations (max_iter) or scale the data as shown in:\n",
      "    https://scikit-learn.org/stable/modules/preprocessing.html\n",
      "Please also refer to the documentation for alternative solver options:\n",
      "    https://scikit-learn.org/stable/modules/linear_model.html#logistic-regression\n",
      "  n_iter_i = _check_optimize_result(\n",
      "C:\\Users\\piercev1\\AppData\\Local\\anaconda3\\Lib\\site-packages\\sklearn\\linear_model\\_logistic.py:460: ConvergenceWarning: lbfgs failed to converge (status=1):\n",
      "STOP: TOTAL NO. of ITERATIONS REACHED LIMIT.\n",
      "\n",
      "Increase the number of iterations (max_iter) or scale the data as shown in:\n",
      "    https://scikit-learn.org/stable/modules/preprocessing.html\n",
      "Please also refer to the documentation for alternative solver options:\n",
      "    https://scikit-learn.org/stable/modules/linear_model.html#logistic-regression\n",
      "  n_iter_i = _check_optimize_result(\n",
      "C:\\Users\\piercev1\\AppData\\Local\\anaconda3\\Lib\\site-packages\\sklearn\\linear_model\\_logistic.py:460: ConvergenceWarning: lbfgs failed to converge (status=1):\n",
      "STOP: TOTAL NO. of ITERATIONS REACHED LIMIT.\n",
      "\n",
      "Increase the number of iterations (max_iter) or scale the data as shown in:\n",
      "    https://scikit-learn.org/stable/modules/preprocessing.html\n",
      "Please also refer to the documentation for alternative solver options:\n",
      "    https://scikit-learn.org/stable/modules/linear_model.html#logistic-regression\n",
      "  n_iter_i = _check_optimize_result(\n",
      "C:\\Users\\piercev1\\AppData\\Local\\anaconda3\\Lib\\site-packages\\sklearn\\linear_model\\_logistic.py:460: ConvergenceWarning: lbfgs failed to converge (status=1):\n",
      "STOP: TOTAL NO. of ITERATIONS REACHED LIMIT.\n",
      "\n",
      "Increase the number of iterations (max_iter) or scale the data as shown in:\n",
      "    https://scikit-learn.org/stable/modules/preprocessing.html\n",
      "Please also refer to the documentation for alternative solver options:\n",
      "    https://scikit-learn.org/stable/modules/linear_model.html#logistic-regression\n",
      "  n_iter_i = _check_optimize_result(\n"
     ]
    }
   ],
   "source": [
    "for T in range(5,10):\n",
    "    t = T/10\n",
    "    guidelines_accuracy(Y_1random, t)"
   ]
  },
  {
   "cell_type": "code",
   "execution_count": 74,
   "id": "83204dd1",
   "metadata": {},
   "outputs": [],
   "source": [
    "Y_2random = np.random.permutation(Y_2)"
   ]
  },
  {
   "cell_type": "code",
   "execution_count": 77,
   "id": "d675619f",
   "metadata": {},
   "outputs": [
    {
     "name": "stdout",
     "output_type": "stream",
     "text": [
      "0.7936507936507936\n",
      "0.8211920529801324\n",
      "0.7556818181818182\n",
      "0.7114427860696517\n",
      "0.8141592920353983\n"
     ]
    },
    {
     "name": "stderr",
     "output_type": "stream",
     "text": [
      "C:\\Users\\piercev1\\AppData\\Local\\anaconda3\\Lib\\site-packages\\sklearn\\linear_model\\_logistic.py:460: ConvergenceWarning: lbfgs failed to converge (status=1):\n",
      "STOP: TOTAL NO. of ITERATIONS REACHED LIMIT.\n",
      "\n",
      "Increase the number of iterations (max_iter) or scale the data as shown in:\n",
      "    https://scikit-learn.org/stable/modules/preprocessing.html\n",
      "Please also refer to the documentation for alternative solver options:\n",
      "    https://scikit-learn.org/stable/modules/linear_model.html#logistic-regression\n",
      "  n_iter_i = _check_optimize_result(\n",
      "C:\\Users\\piercev1\\AppData\\Local\\anaconda3\\Lib\\site-packages\\sklearn\\linear_model\\_logistic.py:460: ConvergenceWarning: lbfgs failed to converge (status=1):\n",
      "STOP: TOTAL NO. of ITERATIONS REACHED LIMIT.\n",
      "\n",
      "Increase the number of iterations (max_iter) or scale the data as shown in:\n",
      "    https://scikit-learn.org/stable/modules/preprocessing.html\n",
      "Please also refer to the documentation for alternative solver options:\n",
      "    https://scikit-learn.org/stable/modules/linear_model.html#logistic-regression\n",
      "  n_iter_i = _check_optimize_result(\n",
      "C:\\Users\\piercev1\\AppData\\Local\\anaconda3\\Lib\\site-packages\\sklearn\\linear_model\\_logistic.py:460: ConvergenceWarning: lbfgs failed to converge (status=1):\n",
      "STOP: TOTAL NO. of ITERATIONS REACHED LIMIT.\n",
      "\n",
      "Increase the number of iterations (max_iter) or scale the data as shown in:\n",
      "    https://scikit-learn.org/stable/modules/preprocessing.html\n",
      "Please also refer to the documentation for alternative solver options:\n",
      "    https://scikit-learn.org/stable/modules/linear_model.html#logistic-regression\n",
      "  n_iter_i = _check_optimize_result(\n",
      "C:\\Users\\piercev1\\AppData\\Local\\anaconda3\\Lib\\site-packages\\sklearn\\linear_model\\_logistic.py:460: ConvergenceWarning: lbfgs failed to converge (status=1):\n",
      "STOP: TOTAL NO. of ITERATIONS REACHED LIMIT.\n",
      "\n",
      "Increase the number of iterations (max_iter) or scale the data as shown in:\n",
      "    https://scikit-learn.org/stable/modules/preprocessing.html\n",
      "Please also refer to the documentation for alternative solver options:\n",
      "    https://scikit-learn.org/stable/modules/linear_model.html#logistic-regression\n",
      "  n_iter_i = _check_optimize_result(\n"
     ]
    }
   ],
   "source": [
    "for T in range(5,10):\n",
    "    t = T/10\n",
    "    guidelines_accuracy(Y_2random, t)"
   ]
  },
  {
   "cell_type": "code",
   "execution_count": 78,
   "id": "b4e211e8",
   "metadata": {},
   "outputs": [],
   "source": [
    "Y_3random = np.random.permutation(Y_3)"
   ]
  },
  {
   "cell_type": "code",
   "execution_count": 81,
   "id": "b28c6e65",
   "metadata": {},
   "outputs": [
    {
     "name": "stdout",
     "output_type": "stream",
     "text": [
      "0.5952380952380952\n",
      "0.695364238410596\n",
      "0.6590909090909091\n",
      "0.5472636815920398\n",
      "0.5309734513274337\n"
     ]
    },
    {
     "name": "stderr",
     "output_type": "stream",
     "text": [
      "C:\\Users\\piercev1\\AppData\\Local\\anaconda3\\Lib\\site-packages\\sklearn\\linear_model\\_logistic.py:460: ConvergenceWarning: lbfgs failed to converge (status=1):\n",
      "STOP: TOTAL NO. of ITERATIONS REACHED LIMIT.\n",
      "\n",
      "Increase the number of iterations (max_iter) or scale the data as shown in:\n",
      "    https://scikit-learn.org/stable/modules/preprocessing.html\n",
      "Please also refer to the documentation for alternative solver options:\n",
      "    https://scikit-learn.org/stable/modules/linear_model.html#logistic-regression\n",
      "  n_iter_i = _check_optimize_result(\n",
      "C:\\Users\\piercev1\\AppData\\Local\\anaconda3\\Lib\\site-packages\\sklearn\\linear_model\\_logistic.py:460: ConvergenceWarning: lbfgs failed to converge (status=1):\n",
      "STOP: TOTAL NO. of ITERATIONS REACHED LIMIT.\n",
      "\n",
      "Increase the number of iterations (max_iter) or scale the data as shown in:\n",
      "    https://scikit-learn.org/stable/modules/preprocessing.html\n",
      "Please also refer to the documentation for alternative solver options:\n",
      "    https://scikit-learn.org/stable/modules/linear_model.html#logistic-regression\n",
      "  n_iter_i = _check_optimize_result(\n",
      "C:\\Users\\piercev1\\AppData\\Local\\anaconda3\\Lib\\site-packages\\sklearn\\linear_model\\_logistic.py:460: ConvergenceWarning: lbfgs failed to converge (status=1):\n",
      "STOP: TOTAL NO. of ITERATIONS REACHED LIMIT.\n",
      "\n",
      "Increase the number of iterations (max_iter) or scale the data as shown in:\n",
      "    https://scikit-learn.org/stable/modules/preprocessing.html\n",
      "Please also refer to the documentation for alternative solver options:\n",
      "    https://scikit-learn.org/stable/modules/linear_model.html#logistic-regression\n",
      "  n_iter_i = _check_optimize_result(\n",
      "C:\\Users\\piercev1\\AppData\\Local\\anaconda3\\Lib\\site-packages\\sklearn\\linear_model\\_logistic.py:460: ConvergenceWarning: lbfgs failed to converge (status=1):\n",
      "STOP: TOTAL NO. of ITERATIONS REACHED LIMIT.\n",
      "\n",
      "Increase the number of iterations (max_iter) or scale the data as shown in:\n",
      "    https://scikit-learn.org/stable/modules/preprocessing.html\n",
      "Please also refer to the documentation for alternative solver options:\n",
      "    https://scikit-learn.org/stable/modules/linear_model.html#logistic-regression\n",
      "  n_iter_i = _check_optimize_result(\n",
      "C:\\Users\\piercev1\\AppData\\Local\\anaconda3\\Lib\\site-packages\\sklearn\\linear_model\\_logistic.py:460: ConvergenceWarning: lbfgs failed to converge (status=1):\n",
      "STOP: TOTAL NO. of ITERATIONS REACHED LIMIT.\n",
      "\n",
      "Increase the number of iterations (max_iter) or scale the data as shown in:\n",
      "    https://scikit-learn.org/stable/modules/preprocessing.html\n",
      "Please also refer to the documentation for alternative solver options:\n",
      "    https://scikit-learn.org/stable/modules/linear_model.html#logistic-regression\n",
      "  n_iter_i = _check_optimize_result(\n"
     ]
    }
   ],
   "source": [
    "for T in range(5,10):\n",
    "    t = T/10\n",
    "    guidelines_accuracy(Y_3random, t)"
   ]
  },
  {
   "cell_type": "code",
   "execution_count": 86,
   "id": "efa188c4",
   "metadata": {},
   "outputs": [
    {
     "name": "stdout",
     "output_type": "stream",
     "text": [
      "0.8095238095238095\n"
     ]
    },
    {
     "name": "stderr",
     "output_type": "stream",
     "text": [
      "C:\\Users\\piercev1\\AppData\\Local\\anaconda3\\Lib\\site-packages\\sklearn\\linear_model\\_logistic.py:460: ConvergenceWarning: lbfgs failed to converge (status=1):\n",
      "STOP: TOTAL NO. of ITERATIONS REACHED LIMIT.\n",
      "\n",
      "Increase the number of iterations (max_iter) or scale the data as shown in:\n",
      "    https://scikit-learn.org/stable/modules/preprocessing.html\n",
      "Please also refer to the documentation for alternative solver options:\n",
      "    https://scikit-learn.org/stable/modules/linear_model.html#logistic-regression\n",
      "  n_iter_i = _check_optimize_result(\n"
     ]
    }
   ],
   "source": [
    "model = guidelines_accuracy(Y_1, 0.5)"
   ]
  },
  {
   "cell_type": "code",
   "execution_count": 87,
   "id": "ad70aa2a",
   "metadata": {},
   "outputs": [
    {
     "data": {
      "text/plain": [
       "array([[-0.10582242, -0.23682033, -0.65639775,  0.23169673, -0.97995928,\n",
       "        -1.10166036, -0.53739034,  0.7619606 , -0.01581544,  0.09739617,\n",
       "        -0.15644498, -0.29240102,  0.69954237,  0.33040764,  1.08951257,\n",
       "         1.07946301,  0.20899655,  0.04972224,  0.06616093, -0.24033681,\n",
       "        -0.27862373, -0.40045719,  0.47234398, -0.3679419 ,  0.51436136,\n",
       "        -0.03492741,  1.15925349,  0.01868534, -0.7947074 ,  0.05295938,\n",
       "         0.29044181]])"
      ]
     },
     "execution_count": 87,
     "metadata": {},
     "output_type": "execute_result"
    }
   ],
   "source": [
    "model.coef_"
   ]
  },
  {
   "cell_type": "code",
   "execution_count": 88,
   "id": "234b8bc0",
   "metadata": {},
   "outputs": [],
   "source": [
    "RandomForestClassifier?"
   ]
  },
  {
   "cell_type": "code",
   "execution_count": 185,
   "id": "36b4b66b",
   "metadata": {},
   "outputs": [],
   "source": [
    "def guidelines_accuracy_rf(Y, t):\n",
    "    X_train, X_test, Y_train, Y_test = train_test_split(X, Y, test_size = t)\n",
    "    model = RandomForestClassifier()\n",
    "    model.fit(X_train, Y_train)\n",
    "    y_pred = model.predict(X_test)\n",
    "    return accuracy_score(Y_test, y_pred)"
   ]
  },
  {
   "cell_type": "code",
   "execution_count": 91,
   "id": "637c385f",
   "metadata": {},
   "outputs": [
    {
     "name": "stdout",
     "output_type": "stream",
     "text": [
      "0.8650793650793651\n"
     ]
    },
    {
     "data": {
      "text/html": [
       "<style>#sk-container-id-3 {color: black;}#sk-container-id-3 pre{padding: 0;}#sk-container-id-3 div.sk-toggleable {background-color: white;}#sk-container-id-3 label.sk-toggleable__label {cursor: pointer;display: block;width: 100%;margin-bottom: 0;padding: 0.3em;box-sizing: border-box;text-align: center;}#sk-container-id-3 label.sk-toggleable__label-arrow:before {content: \"▸\";float: left;margin-right: 0.25em;color: #696969;}#sk-container-id-3 label.sk-toggleable__label-arrow:hover:before {color: black;}#sk-container-id-3 div.sk-estimator:hover label.sk-toggleable__label-arrow:before {color: black;}#sk-container-id-3 div.sk-toggleable__content {max-height: 0;max-width: 0;overflow: hidden;text-align: left;background-color: #f0f8ff;}#sk-container-id-3 div.sk-toggleable__content pre {margin: 0.2em;color: black;border-radius: 0.25em;background-color: #f0f8ff;}#sk-container-id-3 input.sk-toggleable__control:checked~div.sk-toggleable__content {max-height: 200px;max-width: 100%;overflow: auto;}#sk-container-id-3 input.sk-toggleable__control:checked~label.sk-toggleable__label-arrow:before {content: \"▾\";}#sk-container-id-3 div.sk-estimator input.sk-toggleable__control:checked~label.sk-toggleable__label {background-color: #d4ebff;}#sk-container-id-3 div.sk-label input.sk-toggleable__control:checked~label.sk-toggleable__label {background-color: #d4ebff;}#sk-container-id-3 input.sk-hidden--visually {border: 0;clip: rect(1px 1px 1px 1px);clip: rect(1px, 1px, 1px, 1px);height: 1px;margin: -1px;overflow: hidden;padding: 0;position: absolute;width: 1px;}#sk-container-id-3 div.sk-estimator {font-family: monospace;background-color: #f0f8ff;border: 1px dotted black;border-radius: 0.25em;box-sizing: border-box;margin-bottom: 0.5em;}#sk-container-id-3 div.sk-estimator:hover {background-color: #d4ebff;}#sk-container-id-3 div.sk-parallel-item::after {content: \"\";width: 100%;border-bottom: 1px solid gray;flex-grow: 1;}#sk-container-id-3 div.sk-label:hover label.sk-toggleable__label {background-color: #d4ebff;}#sk-container-id-3 div.sk-serial::before {content: \"\";position: absolute;border-left: 1px solid gray;box-sizing: border-box;top: 0;bottom: 0;left: 50%;z-index: 0;}#sk-container-id-3 div.sk-serial {display: flex;flex-direction: column;align-items: center;background-color: white;padding-right: 0.2em;padding-left: 0.2em;position: relative;}#sk-container-id-3 div.sk-item {position: relative;z-index: 1;}#sk-container-id-3 div.sk-parallel {display: flex;align-items: stretch;justify-content: center;background-color: white;position: relative;}#sk-container-id-3 div.sk-item::before, #sk-container-id-3 div.sk-parallel-item::before {content: \"\";position: absolute;border-left: 1px solid gray;box-sizing: border-box;top: 0;bottom: 0;left: 50%;z-index: -1;}#sk-container-id-3 div.sk-parallel-item {display: flex;flex-direction: column;z-index: 1;position: relative;background-color: white;}#sk-container-id-3 div.sk-parallel-item:first-child::after {align-self: flex-end;width: 50%;}#sk-container-id-3 div.sk-parallel-item:last-child::after {align-self: flex-start;width: 50%;}#sk-container-id-3 div.sk-parallel-item:only-child::after {width: 0;}#sk-container-id-3 div.sk-dashed-wrapped {border: 1px dashed gray;margin: 0 0.4em 0.5em 0.4em;box-sizing: border-box;padding-bottom: 0.4em;background-color: white;}#sk-container-id-3 div.sk-label label {font-family: monospace;font-weight: bold;display: inline-block;line-height: 1.2em;}#sk-container-id-3 div.sk-label-container {text-align: center;}#sk-container-id-3 div.sk-container {/* jupyter's `normalize.less` sets `[hidden] { display: none; }` but bootstrap.min.css set `[hidden] { display: none !important; }` so we also need the `!important` here to be able to override the default hidden behavior on the sphinx rendered scikit-learn.org. See: https://github.com/scikit-learn/scikit-learn/issues/21755 */display: inline-block !important;position: relative;}#sk-container-id-3 div.sk-text-repr-fallback {display: none;}</style><div id=\"sk-container-id-3\" class=\"sk-top-container\"><div class=\"sk-text-repr-fallback\"><pre>RandomForestClassifier()</pre><b>In a Jupyter environment, please rerun this cell to show the HTML representation or trust the notebook. <br />On GitHub, the HTML representation is unable to render, please try loading this page with nbviewer.org.</b></div><div class=\"sk-container\" hidden><div class=\"sk-item\"><div class=\"sk-estimator sk-toggleable\"><input class=\"sk-toggleable__control sk-hidden--visually\" id=\"sk-estimator-id-3\" type=\"checkbox\" checked><label for=\"sk-estimator-id-3\" class=\"sk-toggleable__label sk-toggleable__label-arrow\">RandomForestClassifier</label><div class=\"sk-toggleable__content\"><pre>RandomForestClassifier()</pre></div></div></div></div></div>"
      ],
      "text/plain": [
       "RandomForestClassifier()"
      ]
     },
     "execution_count": 91,
     "metadata": {},
     "output_type": "execute_result"
    }
   ],
   "source": [
    "guidelines_accuracy_rf(Y_1, 0.5)"
   ]
  },
  {
   "cell_type": "code",
   "execution_count": 97,
   "id": "8b1d75ee",
   "metadata": {},
   "outputs": [
    {
     "name": "stdout",
     "output_type": "stream",
     "text": [
      "0.8571428571428571\n",
      "0.8675496688741722\n",
      "0.8125\n",
      "0.7263681592039801\n",
      "0.7610619469026548\n"
     ]
    }
   ],
   "source": [
    "for T in range(5,10):\n",
    "    t = T/10\n",
    "    guidelines_accuracy_rf(Y_1, t)"
   ]
  },
  {
   "cell_type": "code",
   "execution_count": 99,
   "id": "01fb5aeb",
   "metadata": {},
   "outputs": [
    {
     "name": "stdout",
     "output_type": "stream",
     "text": [
      "0.8968253968253969\n",
      "0.8543046357615894\n",
      "0.8409090909090909\n",
      "0.8308457711442786\n",
      "0.827433628318584\n"
     ]
    }
   ],
   "source": [
    "for T in range(5,10):\n",
    "    t = T/10\n",
    "    guidelines_accuracy_rf(Y_2, t)"
   ]
  },
  {
   "cell_type": "code",
   "execution_count": 101,
   "id": "f4ed0264",
   "metadata": {},
   "outputs": [
    {
     "name": "stdout",
     "output_type": "stream",
     "text": [
      "0.8412698412698413\n",
      "0.8079470198675497\n",
      "0.8636363636363636\n",
      "0.8208955223880597\n",
      "0.7787610619469026\n"
     ]
    }
   ],
   "source": [
    "for T in range(5,10):\n",
    "    t = T/10\n",
    "    guidelines_accuracy_rf(Y_3, t)"
   ]
  },
  {
   "cell_type": "code",
   "execution_count": 102,
   "id": "49a3796d",
   "metadata": {},
   "outputs": [
    {
     "name": "stdout",
     "output_type": "stream",
     "text": [
      "0.626984126984127\n",
      "0.6423841059602649\n",
      "0.6761363636363636\n",
      "0.6616915422885572\n",
      "0.668141592920354\n"
     ]
    }
   ],
   "source": [
    "for T in range(5,10):\n",
    "    t = T/10\n",
    "    guidelines_accuracy_rf(Y_1random, t)"
   ]
  },
  {
   "cell_type": "code",
   "execution_count": 103,
   "id": "ca7740e8",
   "metadata": {},
   "outputs": [
    {
     "name": "stdout",
     "output_type": "stream",
     "text": [
      "0.8095238095238095\n",
      "0.8013245033112583\n",
      "0.8125\n",
      "0.7960199004975125\n",
      "0.7920353982300885\n"
     ]
    }
   ],
   "source": [
    "for T in range(5,10):\n",
    "    t = T/10\n",
    "    guidelines_accuracy_rf(Y_2random, t)"
   ]
  },
  {
   "cell_type": "code",
   "execution_count": 104,
   "id": "f8f3671b",
   "metadata": {},
   "outputs": [
    {
     "name": "stdout",
     "output_type": "stream",
     "text": [
      "0.6428571428571429\n",
      "0.7019867549668874\n",
      "0.6988636363636364\n",
      "0.6467661691542289\n",
      "0.6283185840707964\n"
     ]
    }
   ],
   "source": [
    "for T in range(5,10):\n",
    "    t = T/10\n",
    "    guidelines_accuracy_rf(Y_3random, t)"
   ]
  },
  {
   "cell_type": "code",
   "execution_count": 107,
   "id": "bde7c2e0",
   "metadata": {},
   "outputs": [
    {
     "name": "stdout",
     "output_type": "stream",
     "text": [
      "0.8015873015873016\n",
      "0.6190476190476191\n",
      "0.7615894039735099\n",
      "0.6556291390728477\n",
      "0.7443181818181818\n",
      "0.6647727272727273\n",
      "0.8059701492537313\n",
      "0.6368159203980099\n",
      "0.7610619469026548\n",
      "0.6592920353982301\n"
     ]
    },
    {
     "name": "stderr",
     "output_type": "stream",
     "text": [
      "C:\\Users\\piercev1\\AppData\\Local\\anaconda3\\Lib\\site-packages\\sklearn\\linear_model\\_logistic.py:460: ConvergenceWarning: lbfgs failed to converge (status=1):\n",
      "STOP: TOTAL NO. of ITERATIONS REACHED LIMIT.\n",
      "\n",
      "Increase the number of iterations (max_iter) or scale the data as shown in:\n",
      "    https://scikit-learn.org/stable/modules/preprocessing.html\n",
      "Please also refer to the documentation for alternative solver options:\n",
      "    https://scikit-learn.org/stable/modules/linear_model.html#logistic-regression\n",
      "  n_iter_i = _check_optimize_result(\n",
      "C:\\Users\\piercev1\\AppData\\Local\\anaconda3\\Lib\\site-packages\\sklearn\\linear_model\\_logistic.py:460: ConvergenceWarning: lbfgs failed to converge (status=1):\n",
      "STOP: TOTAL NO. of ITERATIONS REACHED LIMIT.\n",
      "\n",
      "Increase the number of iterations (max_iter) or scale the data as shown in:\n",
      "    https://scikit-learn.org/stable/modules/preprocessing.html\n",
      "Please also refer to the documentation for alternative solver options:\n",
      "    https://scikit-learn.org/stable/modules/linear_model.html#logistic-regression\n",
      "  n_iter_i = _check_optimize_result(\n",
      "C:\\Users\\piercev1\\AppData\\Local\\anaconda3\\Lib\\site-packages\\sklearn\\linear_model\\_logistic.py:460: ConvergenceWarning: lbfgs failed to converge (status=1):\n",
      "STOP: TOTAL NO. of ITERATIONS REACHED LIMIT.\n",
      "\n",
      "Increase the number of iterations (max_iter) or scale the data as shown in:\n",
      "    https://scikit-learn.org/stable/modules/preprocessing.html\n",
      "Please also refer to the documentation for alternative solver options:\n",
      "    https://scikit-learn.org/stable/modules/linear_model.html#logistic-regression\n",
      "  n_iter_i = _check_optimize_result(\n",
      "C:\\Users\\piercev1\\AppData\\Local\\anaconda3\\Lib\\site-packages\\sklearn\\linear_model\\_logistic.py:460: ConvergenceWarning: lbfgs failed to converge (status=1):\n",
      "STOP: TOTAL NO. of ITERATIONS REACHED LIMIT.\n",
      "\n",
      "Increase the number of iterations (max_iter) or scale the data as shown in:\n",
      "    https://scikit-learn.org/stable/modules/preprocessing.html\n",
      "Please also refer to the documentation for alternative solver options:\n",
      "    https://scikit-learn.org/stable/modules/linear_model.html#logistic-regression\n",
      "  n_iter_i = _check_optimize_result(\n",
      "C:\\Users\\piercev1\\AppData\\Local\\anaconda3\\Lib\\site-packages\\sklearn\\linear_model\\_logistic.py:460: ConvergenceWarning: lbfgs failed to converge (status=1):\n",
      "STOP: TOTAL NO. of ITERATIONS REACHED LIMIT.\n",
      "\n",
      "Increase the number of iterations (max_iter) or scale the data as shown in:\n",
      "    https://scikit-learn.org/stable/modules/preprocessing.html\n",
      "Please also refer to the documentation for alternative solver options:\n",
      "    https://scikit-learn.org/stable/modules/linear_model.html#logistic-regression\n",
      "  n_iter_i = _check_optimize_result(\n",
      "C:\\Users\\piercev1\\AppData\\Local\\anaconda3\\Lib\\site-packages\\sklearn\\linear_model\\_logistic.py:460: ConvergenceWarning: lbfgs failed to converge (status=1):\n",
      "STOP: TOTAL NO. of ITERATIONS REACHED LIMIT.\n",
      "\n",
      "Increase the number of iterations (max_iter) or scale the data as shown in:\n",
      "    https://scikit-learn.org/stable/modules/preprocessing.html\n",
      "Please also refer to the documentation for alternative solver options:\n",
      "    https://scikit-learn.org/stable/modules/linear_model.html#logistic-regression\n",
      "  n_iter_i = _check_optimize_result(\n",
      "C:\\Users\\piercev1\\AppData\\Local\\anaconda3\\Lib\\site-packages\\sklearn\\linear_model\\_logistic.py:460: ConvergenceWarning: lbfgs failed to converge (status=1):\n",
      "STOP: TOTAL NO. of ITERATIONS REACHED LIMIT.\n",
      "\n",
      "Increase the number of iterations (max_iter) or scale the data as shown in:\n",
      "    https://scikit-learn.org/stable/modules/preprocessing.html\n",
      "Please also refer to the documentation for alternative solver options:\n",
      "    https://scikit-learn.org/stable/modules/linear_model.html#logistic-regression\n",
      "  n_iter_i = _check_optimize_result(\n",
      "C:\\Users\\piercev1\\AppData\\Local\\anaconda3\\Lib\\site-packages\\sklearn\\linear_model\\_logistic.py:460: ConvergenceWarning: lbfgs failed to converge (status=1):\n",
      "STOP: TOTAL NO. of ITERATIONS REACHED LIMIT.\n",
      "\n",
      "Increase the number of iterations (max_iter) or scale the data as shown in:\n",
      "    https://scikit-learn.org/stable/modules/preprocessing.html\n",
      "Please also refer to the documentation for alternative solver options:\n",
      "    https://scikit-learn.org/stable/modules/linear_model.html#logistic-regression\n",
      "  n_iter_i = _check_optimize_result(\n",
      "C:\\Users\\piercev1\\AppData\\Local\\anaconda3\\Lib\\site-packages\\sklearn\\linear_model\\_logistic.py:460: ConvergenceWarning: lbfgs failed to converge (status=1):\n",
      "STOP: TOTAL NO. of ITERATIONS REACHED LIMIT.\n",
      "\n",
      "Increase the number of iterations (max_iter) or scale the data as shown in:\n",
      "    https://scikit-learn.org/stable/modules/preprocessing.html\n",
      "Please also refer to the documentation for alternative solver options:\n",
      "    https://scikit-learn.org/stable/modules/linear_model.html#logistic-regression\n",
      "  n_iter_i = _check_optimize_result(\n"
     ]
    }
   ],
   "source": [
    "cc_log_data = [[guidelines_accuracy(Y_1, 0.5)], [guidelines_accuracy(Y_1random, 0.5)], [guidelines_accuracy(Y_1, 0.6)], [guidelines_accuracy(Y_1random, 0.6)], [guidelines_accuracy(Y_1, 0.7)], [guidelines_accuracy(Y_1random, 0.7), guidelines_accuracy(Y_1, 0.8), guidelines_accuracy(Y_1random, 0.8), guidelines_accuracy(Y_1, 0.9), guidelines_accuracy(Y_1random, 0.9)]\n",
    "cc_log_colnames = \"Coersive_Control_0.5\", \"Coersive_Control_Random_0.5\", \"Coersive_Control_0.6\", \"Coersive_Control_Random_0.6\", \"Coersive_Control_0.7\", \"Coersive_Control_Random_0.7\", \"Coersive_Control_0.8\", \"Coersive_Control_Random_0.8\", \"Coersive_Control_0.9\", \"Coersive_Control_Random_0.9\"]"
   ]
  },
  {
   "cell_type": "markdown",
   "id": "b5a15c27",
   "metadata": {},
   "source": [
    "type(cc_log_data)"
   ]
  },
  {
   "cell_type": "code",
   "execution_count": 108,
   "id": "5c824fec",
   "metadata": {},
   "outputs": [
    {
     "data": {
      "text/plain": [
       "list"
      ]
     },
     "execution_count": 108,
     "metadata": {},
     "output_type": "execute_result"
    }
   ],
   "source": [
    "type(cc_log_data)"
   ]
  },
  {
   "cell_type": "code",
   "execution_count": 130,
   "id": "d308c9b2",
   "metadata": {},
   "outputs": [
    {
     "name": "stdout",
     "output_type": "stream",
     "text": [
      "0.8\n",
      "0.8333333333333334\n",
      "0.7142857142857143\n",
      "0.875\n",
      "1.0\n"
     ]
    },
    {
     "name": "stderr",
     "output_type": "stream",
     "text": [
      "C:\\Users\\piercev1\\AppData\\Local\\anaconda3\\Lib\\site-packages\\sklearn\\linear_model\\_logistic.py:460: ConvergenceWarning: lbfgs failed to converge (status=1):\n",
      "STOP: TOTAL NO. of ITERATIONS REACHED LIMIT.\n",
      "\n",
      "Increase the number of iterations (max_iter) or scale the data as shown in:\n",
      "    https://scikit-learn.org/stable/modules/preprocessing.html\n",
      "Please also refer to the documentation for alternative solver options:\n",
      "    https://scikit-learn.org/stable/modules/linear_model.html#logistic-regression\n",
      "  n_iter_i = _check_optimize_result(\n",
      "C:\\Users\\piercev1\\AppData\\Local\\anaconda3\\Lib\\site-packages\\sklearn\\linear_model\\_logistic.py:460: ConvergenceWarning: lbfgs failed to converge (status=1):\n",
      "STOP: TOTAL NO. of ITERATIONS REACHED LIMIT.\n",
      "\n",
      "Increase the number of iterations (max_iter) or scale the data as shown in:\n",
      "    https://scikit-learn.org/stable/modules/preprocessing.html\n",
      "Please also refer to the documentation for alternative solver options:\n",
      "    https://scikit-learn.org/stable/modules/linear_model.html#logistic-regression\n",
      "  n_iter_i = _check_optimize_result(\n",
      "C:\\Users\\piercev1\\AppData\\Local\\anaconda3\\Lib\\site-packages\\sklearn\\linear_model\\_logistic.py:460: ConvergenceWarning: lbfgs failed to converge (status=1):\n",
      "STOP: TOTAL NO. of ITERATIONS REACHED LIMIT.\n",
      "\n",
      "Increase the number of iterations (max_iter) or scale the data as shown in:\n",
      "    https://scikit-learn.org/stable/modules/preprocessing.html\n",
      "Please also refer to the documentation for alternative solver options:\n",
      "    https://scikit-learn.org/stable/modules/linear_model.html#logistic-regression\n",
      "  n_iter_i = _check_optimize_result(\n",
      "C:\\Users\\piercev1\\AppData\\Local\\anaconda3\\Lib\\site-packages\\sklearn\\linear_model\\_logistic.py:460: ConvergenceWarning: lbfgs failed to converge (status=1):\n",
      "STOP: TOTAL NO. of ITERATIONS REACHED LIMIT.\n",
      "\n",
      "Increase the number of iterations (max_iter) or scale the data as shown in:\n",
      "    https://scikit-learn.org/stable/modules/preprocessing.html\n",
      "Please also refer to the documentation for alternative solver options:\n",
      "    https://scikit-learn.org/stable/modules/linear_model.html#logistic-regression\n",
      "  n_iter_i = _check_optimize_result(\n",
      "C:\\Users\\piercev1\\AppData\\Local\\anaconda3\\Lib\\site-packages\\sklearn\\linear_model\\_logistic.py:460: ConvergenceWarning: lbfgs failed to converge (status=1):\n",
      "STOP: TOTAL NO. of ITERATIONS REACHED LIMIT.\n",
      "\n",
      "Increase the number of iterations (max_iter) or scale the data as shown in:\n",
      "    https://scikit-learn.org/stable/modules/preprocessing.html\n",
      "Please also refer to the documentation for alternative solver options:\n",
      "    https://scikit-learn.org/stable/modules/linear_model.html#logistic-regression\n",
      "  n_iter_i = _check_optimize_result(\n"
     ]
    }
   ],
   "source": [
    "cc_log_actual = [guidelines_accuracy(Y_1, t) for t in range(5, 10)]"
   ]
  },
  {
   "cell_type": "code",
   "execution_count": 131,
   "id": "0c33ee1f",
   "metadata": {},
   "outputs": [
    {
     "name": "stdout",
     "output_type": "stream",
     "text": [
      "0.6\n",
      "0.6666666666666666\n",
      "0.7142857142857143\n",
      "0.625\n",
      "0.5555555555555556\n"
     ]
    },
    {
     "name": "stderr",
     "output_type": "stream",
     "text": [
      "C:\\Users\\piercev1\\AppData\\Local\\anaconda3\\Lib\\site-packages\\sklearn\\linear_model\\_logistic.py:460: ConvergenceWarning: lbfgs failed to converge (status=1):\n",
      "STOP: TOTAL NO. of ITERATIONS REACHED LIMIT.\n",
      "\n",
      "Increase the number of iterations (max_iter) or scale the data as shown in:\n",
      "    https://scikit-learn.org/stable/modules/preprocessing.html\n",
      "Please also refer to the documentation for alternative solver options:\n",
      "    https://scikit-learn.org/stable/modules/linear_model.html#logistic-regression\n",
      "  n_iter_i = _check_optimize_result(\n",
      "C:\\Users\\piercev1\\AppData\\Local\\anaconda3\\Lib\\site-packages\\sklearn\\linear_model\\_logistic.py:460: ConvergenceWarning: lbfgs failed to converge (status=1):\n",
      "STOP: TOTAL NO. of ITERATIONS REACHED LIMIT.\n",
      "\n",
      "Increase the number of iterations (max_iter) or scale the data as shown in:\n",
      "    https://scikit-learn.org/stable/modules/preprocessing.html\n",
      "Please also refer to the documentation for alternative solver options:\n",
      "    https://scikit-learn.org/stable/modules/linear_model.html#logistic-regression\n",
      "  n_iter_i = _check_optimize_result(\n",
      "C:\\Users\\piercev1\\AppData\\Local\\anaconda3\\Lib\\site-packages\\sklearn\\linear_model\\_logistic.py:460: ConvergenceWarning: lbfgs failed to converge (status=1):\n",
      "STOP: TOTAL NO. of ITERATIONS REACHED LIMIT.\n",
      "\n",
      "Increase the number of iterations (max_iter) or scale the data as shown in:\n",
      "    https://scikit-learn.org/stable/modules/preprocessing.html\n",
      "Please also refer to the documentation for alternative solver options:\n",
      "    https://scikit-learn.org/stable/modules/linear_model.html#logistic-regression\n",
      "  n_iter_i = _check_optimize_result(\n",
      "C:\\Users\\piercev1\\AppData\\Local\\anaconda3\\Lib\\site-packages\\sklearn\\linear_model\\_logistic.py:460: ConvergenceWarning: lbfgs failed to converge (status=1):\n",
      "STOP: TOTAL NO. of ITERATIONS REACHED LIMIT.\n",
      "\n",
      "Increase the number of iterations (max_iter) or scale the data as shown in:\n",
      "    https://scikit-learn.org/stable/modules/preprocessing.html\n",
      "Please also refer to the documentation for alternative solver options:\n",
      "    https://scikit-learn.org/stable/modules/linear_model.html#logistic-regression\n",
      "  n_iter_i = _check_optimize_result(\n",
      "C:\\Users\\piercev1\\AppData\\Local\\anaconda3\\Lib\\site-packages\\sklearn\\linear_model\\_logistic.py:460: ConvergenceWarning: lbfgs failed to converge (status=1):\n",
      "STOP: TOTAL NO. of ITERATIONS REACHED LIMIT.\n",
      "\n",
      "Increase the number of iterations (max_iter) or scale the data as shown in:\n",
      "    https://scikit-learn.org/stable/modules/preprocessing.html\n",
      "Please also refer to the documentation for alternative solver options:\n",
      "    https://scikit-learn.org/stable/modules/linear_model.html#logistic-regression\n",
      "  n_iter_i = _check_optimize_result(\n"
     ]
    }
   ],
   "source": [
    "cc_log_random = [guidelines_accuracy(Y_1random, t) for t in range(5,10)]"
   ]
  },
  {
   "cell_type": "code",
   "execution_count": 160,
   "id": "5ca5bc74",
   "metadata": {},
   "outputs": [],
   "source": [
    "cc_log_columnnames = [\"Percentage_in_Training_Set\", \"Coercive_Control_Coded_Accuracies\", \"Coercive_Control_Random_Accuracies\"]"
   ]
  },
  {
   "cell_type": "code",
   "execution_count": 133,
   "id": "a75931cc",
   "metadata": {},
   "outputs": [],
   "source": [
    "perc = [50, 60, 70, 80, 90]"
   ]
  },
  {
   "cell_type": "code",
   "execution_count": 134,
   "id": "3ee769eb",
   "metadata": {},
   "outputs": [],
   "source": [
    "data = [perc, cc_log_actual, cc_log_random]"
   ]
  },
  {
   "cell_type": "code",
   "execution_count": 128,
   "id": "8a52789a",
   "metadata": {},
   "outputs": [
    {
     "name": "stdout",
     "output_type": "stream",
     "text": [
      "[[50, None, None], [60, None, None], [70, None, None], [80, None, None], [90, None, None]]\n"
     ]
    }
   ],
   "source": [
    "# Transpose the list of lists\n",
    "transposed_data = list(zip(*data))\n",
    "\n",
    "# Convert the tuples to lists (optional)\n",
    "transposed_data = [list(row) for row in transposed_data]\n",
    "\n",
    "print(transposed_data)\n"
   ]
  },
  {
   "cell_type": "code",
   "execution_count": 161,
   "id": "79709edb",
   "metadata": {},
   "outputs": [],
   "source": [
    "cc_log = pd.DataFrame(transposed_data, columns = cc_log_columnnames)"
   ]
  },
  {
   "cell_type": "code",
   "execution_count": 136,
   "id": "90316258",
   "metadata": {},
   "outputs": [
    {
     "data": {
      "text/html": [
       "<div>\n",
       "<style scoped>\n",
       "    .dataframe tbody tr th:only-of-type {\n",
       "        vertical-align: middle;\n",
       "    }\n",
       "\n",
       "    .dataframe tbody tr th {\n",
       "        vertical-align: top;\n",
       "    }\n",
       "\n",
       "    .dataframe thead th {\n",
       "        text-align: right;\n",
       "    }\n",
       "</style>\n",
       "<table border=\"1\" class=\"dataframe\">\n",
       "  <thead>\n",
       "    <tr style=\"text-align: right;\">\n",
       "      <th></th>\n",
       "      <th>Percentage in Training Set</th>\n",
       "      <th>Coercive_Control_Coded_Accuracies</th>\n",
       "      <th>Coerceive Control Random</th>\n",
       "    </tr>\n",
       "  </thead>\n",
       "  <tbody>\n",
       "    <tr>\n",
       "      <th>0</th>\n",
       "      <td>50</td>\n",
       "      <td>None</td>\n",
       "      <td>None</td>\n",
       "    </tr>\n",
       "    <tr>\n",
       "      <th>1</th>\n",
       "      <td>60</td>\n",
       "      <td>None</td>\n",
       "      <td>None</td>\n",
       "    </tr>\n",
       "    <tr>\n",
       "      <th>2</th>\n",
       "      <td>70</td>\n",
       "      <td>None</td>\n",
       "      <td>None</td>\n",
       "    </tr>\n",
       "    <tr>\n",
       "      <th>3</th>\n",
       "      <td>80</td>\n",
       "      <td>None</td>\n",
       "      <td>None</td>\n",
       "    </tr>\n",
       "    <tr>\n",
       "      <th>4</th>\n",
       "      <td>90</td>\n",
       "      <td>None</td>\n",
       "      <td>None</td>\n",
       "    </tr>\n",
       "  </tbody>\n",
       "</table>\n",
       "</div>"
      ],
      "text/plain": [
       "   Percentage in Training Set Coercive_Control_Coded_Accuracies  \\\n",
       "0                          50                              None   \n",
       "1                          60                              None   \n",
       "2                          70                              None   \n",
       "3                          80                              None   \n",
       "4                          90                              None   \n",
       "\n",
       "  Coerceive Control Random  \n",
       "0                     None  \n",
       "1                     None  \n",
       "2                     None  \n",
       "3                     None  \n",
       "4                     None  "
      ]
     },
     "execution_count": 136,
     "metadata": {},
     "output_type": "execute_result"
    }
   ],
   "source": [
    "cc_log.head()"
   ]
  },
  {
   "cell_type": "code",
   "execution_count": 146,
   "id": "80de9544",
   "metadata": {},
   "outputs": [
    {
     "name": "stderr",
     "output_type": "stream",
     "text": [
      "C:\\Users\\piercev1\\AppData\\Local\\anaconda3\\Lib\\site-packages\\sklearn\\linear_model\\_logistic.py:460: ConvergenceWarning: lbfgs failed to converge (status=1):\n",
      "STOP: TOTAL NO. of ITERATIONS REACHED LIMIT.\n",
      "\n",
      "Increase the number of iterations (max_iter) or scale the data as shown in:\n",
      "    https://scikit-learn.org/stable/modules/preprocessing.html\n",
      "Please also refer to the documentation for alternative solver options:\n",
      "    https://scikit-learn.org/stable/modules/linear_model.html#logistic-regression\n",
      "  n_iter_i = _check_optimize_result(\n",
      "C:\\Users\\piercev1\\AppData\\Local\\anaconda3\\Lib\\site-packages\\sklearn\\linear_model\\_logistic.py:460: ConvergenceWarning: lbfgs failed to converge (status=1):\n",
      "STOP: TOTAL NO. of ITERATIONS REACHED LIMIT.\n",
      "\n",
      "Increase the number of iterations (max_iter) or scale the data as shown in:\n",
      "    https://scikit-learn.org/stable/modules/preprocessing.html\n",
      "Please also refer to the documentation for alternative solver options:\n",
      "    https://scikit-learn.org/stable/modules/linear_model.html#logistic-regression\n",
      "  n_iter_i = _check_optimize_result(\n",
      "C:\\Users\\piercev1\\AppData\\Local\\anaconda3\\Lib\\site-packages\\sklearn\\linear_model\\_logistic.py:460: ConvergenceWarning: lbfgs failed to converge (status=1):\n",
      "STOP: TOTAL NO. of ITERATIONS REACHED LIMIT.\n",
      "\n",
      "Increase the number of iterations (max_iter) or scale the data as shown in:\n",
      "    https://scikit-learn.org/stable/modules/preprocessing.html\n",
      "Please also refer to the documentation for alternative solver options:\n",
      "    https://scikit-learn.org/stable/modules/linear_model.html#logistic-regression\n",
      "  n_iter_i = _check_optimize_result(\n",
      "C:\\Users\\piercev1\\AppData\\Local\\anaconda3\\Lib\\site-packages\\sklearn\\linear_model\\_logistic.py:460: ConvergenceWarning: lbfgs failed to converge (status=1):\n",
      "STOP: TOTAL NO. of ITERATIONS REACHED LIMIT.\n",
      "\n",
      "Increase the number of iterations (max_iter) or scale the data as shown in:\n",
      "    https://scikit-learn.org/stable/modules/preprocessing.html\n",
      "Please also refer to the documentation for alternative solver options:\n",
      "    https://scikit-learn.org/stable/modules/linear_model.html#logistic-regression\n",
      "  n_iter_i = _check_optimize_result(\n",
      "C:\\Users\\piercev1\\AppData\\Local\\anaconda3\\Lib\\site-packages\\sklearn\\linear_model\\_logistic.py:460: ConvergenceWarning: lbfgs failed to converge (status=1):\n",
      "STOP: TOTAL NO. of ITERATIONS REACHED LIMIT.\n",
      "\n",
      "Increase the number of iterations (max_iter) or scale the data as shown in:\n",
      "    https://scikit-learn.org/stable/modules/preprocessing.html\n",
      "Please also refer to the documentation for alternative solver options:\n",
      "    https://scikit-learn.org/stable/modules/linear_model.html#logistic-regression\n",
      "  n_iter_i = _check_optimize_result(\n",
      "C:\\Users\\piercev1\\AppData\\Local\\anaconda3\\Lib\\site-packages\\sklearn\\linear_model\\_logistic.py:460: ConvergenceWarning: lbfgs failed to converge (status=1):\n",
      "STOP: TOTAL NO. of ITERATIONS REACHED LIMIT.\n",
      "\n",
      "Increase the number of iterations (max_iter) or scale the data as shown in:\n",
      "    https://scikit-learn.org/stable/modules/preprocessing.html\n",
      "Please also refer to the documentation for alternative solver options:\n",
      "    https://scikit-learn.org/stable/modules/linear_model.html#logistic-regression\n",
      "  n_iter_i = _check_optimize_result(\n",
      "C:\\Users\\piercev1\\AppData\\Local\\anaconda3\\Lib\\site-packages\\sklearn\\linear_model\\_logistic.py:460: ConvergenceWarning: lbfgs failed to converge (status=1):\n",
      "STOP: TOTAL NO. of ITERATIONS REACHED LIMIT.\n",
      "\n",
      "Increase the number of iterations (max_iter) or scale the data as shown in:\n",
      "    https://scikit-learn.org/stable/modules/preprocessing.html\n",
      "Please also refer to the documentation for alternative solver options:\n",
      "    https://scikit-learn.org/stable/modules/linear_model.html#logistic-regression\n",
      "  n_iter_i = _check_optimize_result(\n",
      "C:\\Users\\piercev1\\AppData\\Local\\anaconda3\\Lib\\site-packages\\sklearn\\linear_model\\_logistic.py:460: ConvergenceWarning: lbfgs failed to converge (status=1):\n",
      "STOP: TOTAL NO. of ITERATIONS REACHED LIMIT.\n",
      "\n",
      "Increase the number of iterations (max_iter) or scale the data as shown in:\n",
      "    https://scikit-learn.org/stable/modules/preprocessing.html\n",
      "Please also refer to the documentation for alternative solver options:\n",
      "    https://scikit-learn.org/stable/modules/linear_model.html#logistic-regression\n",
      "  n_iter_i = _check_optimize_result(\n"
     ]
    }
   ],
   "source": [
    "cc_log_data = [\n",
    "    [0.5, guidelines_accuracy(Y_1, 0.5), guidelines_accuracy(Y_1random, 0.5)],\n",
    "    [0.6, guidelines_accuracy(Y_1, 0.6), guidelines_accuracy(Y_1random, 0.6)],\n",
    "    [0.7, guidelines_accuracy(Y_1, 0.7), guidelines_accuracy(Y_1random, 0.7)],\n",
    "    [0.8, guidelines_accuracy(Y_1, 0.8), guidelines_accuracy(Y_1random, 0.8)],\n",
    "    [0.9, guidelines_accuracy(Y_1, 0.9), guidelines_accuracy(Y_1random, 0.9)]\n",
    "        ]"
   ]
  },
  {
   "cell_type": "code",
   "execution_count": 138,
   "id": "b5e5ba72",
   "metadata": {},
   "outputs": [
    {
     "data": {
      "text/plain": [
       "dict"
      ]
     },
     "execution_count": 138,
     "metadata": {},
     "output_type": "execute_result"
    }
   ],
   "source": [
    "type(cc_log_data)"
   ]
  },
  {
   "cell_type": "code",
   "execution_count": 162,
   "id": "d779d904",
   "metadata": {},
   "outputs": [],
   "source": [
    "cc_log = pd.DataFrame(cc_log_data, columns = cc_log_columnnames)"
   ]
  },
  {
   "cell_type": "code",
   "execution_count": 163,
   "id": "b253514d",
   "metadata": {},
   "outputs": [
    {
     "data": {
      "text/html": [
       "<div>\n",
       "<style scoped>\n",
       "    .dataframe tbody tr th:only-of-type {\n",
       "        vertical-align: middle;\n",
       "    }\n",
       "\n",
       "    .dataframe tbody tr th {\n",
       "        vertical-align: top;\n",
       "    }\n",
       "\n",
       "    .dataframe thead th {\n",
       "        text-align: right;\n",
       "    }\n",
       "</style>\n",
       "<table border=\"1\" class=\"dataframe\">\n",
       "  <thead>\n",
       "    <tr style=\"text-align: right;\">\n",
       "      <th></th>\n",
       "      <th>Percentage_in_Training_Set</th>\n",
       "      <th>Coercive_Control_Coded_Accuracies</th>\n",
       "      <th>Coercive_Control_Random_Accuracies</th>\n",
       "    </tr>\n",
       "  </thead>\n",
       "  <tbody>\n",
       "    <tr>\n",
       "      <th>0</th>\n",
       "      <td>0.5</td>\n",
       "      <td>0.761905</td>\n",
       "      <td>0.690476</td>\n",
       "    </tr>\n",
       "    <tr>\n",
       "      <th>1</th>\n",
       "      <td>0.6</td>\n",
       "      <td>0.754967</td>\n",
       "      <td>0.615894</td>\n",
       "    </tr>\n",
       "    <tr>\n",
       "      <th>2</th>\n",
       "      <td>0.7</td>\n",
       "      <td>0.744318</td>\n",
       "      <td>0.619318</td>\n",
       "    </tr>\n",
       "    <tr>\n",
       "      <th>3</th>\n",
       "      <td>0.8</td>\n",
       "      <td>0.776119</td>\n",
       "      <td>0.651741</td>\n",
       "    </tr>\n",
       "    <tr>\n",
       "      <th>4</th>\n",
       "      <td>0.9</td>\n",
       "      <td>0.761062</td>\n",
       "      <td>0.566372</td>\n",
       "    </tr>\n",
       "  </tbody>\n",
       "</table>\n",
       "</div>"
      ],
      "text/plain": [
       "   Percentage_in_Training_Set  Coercive_Control_Coded_Accuracies  \\\n",
       "0                         0.5                           0.761905   \n",
       "1                         0.6                           0.754967   \n",
       "2                         0.7                           0.744318   \n",
       "3                         0.8                           0.776119   \n",
       "4                         0.9                           0.761062   \n",
       "\n",
       "   Coercive_Control_Random_Accuracies  \n",
       "0                            0.690476  \n",
       "1                            0.615894  \n",
       "2                            0.619318  \n",
       "3                            0.651741  \n",
       "4                            0.566372  "
      ]
     },
     "execution_count": 163,
     "metadata": {},
     "output_type": "execute_result"
    }
   ],
   "source": [
    "cc_log.head()"
   ]
  },
  {
   "cell_type": "code",
   "execution_count": 141,
   "id": "6896cd2d",
   "metadata": {},
   "outputs": [
    {
     "data": {
      "text/html": [
       "<div>\n",
       "<style scoped>\n",
       "    .dataframe tbody tr th:only-of-type {\n",
       "        vertical-align: middle;\n",
       "    }\n",
       "\n",
       "    .dataframe tbody tr th {\n",
       "        vertical-align: top;\n",
       "    }\n",
       "\n",
       "    .dataframe thead th {\n",
       "        text-align: right;\n",
       "    }\n",
       "</style>\n",
       "<table border=\"1\" class=\"dataframe\">\n",
       "  <thead>\n",
       "    <tr style=\"text-align: right;\">\n",
       "      <th></th>\n",
       "      <th>Percentage in Training Set</th>\n",
       "      <th>Coercive_Control_Coded_Accuracies</th>\n",
       "      <th>Coerceive Control Random</th>\n",
       "    </tr>\n",
       "  </thead>\n",
       "  <tbody>\n",
       "  </tbody>\n",
       "</table>\n",
       "</div>"
      ],
      "text/plain": [
       "Empty DataFrame\n",
       "Columns: [Percentage in Training Set, Coercive_Control_Coded_Accuracies, Coerceive Control Random]\n",
       "Index: []"
      ]
     },
     "execution_count": 141,
     "metadata": {},
     "output_type": "execute_result"
    }
   ],
   "source": []
  },
  {
   "cell_type": "code",
   "execution_count": 169,
   "id": "79dcded3",
   "metadata": {},
   "outputs": [
    {
     "data": {
      "image/png": "[encoded data removed]",
      "text/plain": [
       "<Figure size 640x480 with 1 Axes>"
      ]
     },
     "metadata": {},
     "output_type": "display_data"
    }
   ],
   "source": [
    "bar_width = 0.35\n",
    "index = np.arange(len(cc_log[\"Percentage_in_Training_Set\"]))\n",
    "fig, ax = plt.subplots()\n",
    "bar1 = ax.bar(index, cc_log[\"Coercive_Control_Coded_Accuracies\"], bar_width, label = 'Coded')\n",
    "bar2 = ax.bar(index + bar_width, cc_log['Coercive_Control_Random_Accuracies'], bar_width, label = 'Random')\n",
    "\n",
    "ax.set_ylim(0,1)\n",
    "ax.set_xlabel(\"Percentage in Training Set\")\n",
    "ax.set_ylabel(\"Accuracies of Logistic Model\")\n",
    "ax.set_title(\"Accuracies for Coercive Control Using Logistic Regression\")\n",
    "ax.set_xticks(index + bar_width/2)\n",
    "ax.set_xticklabels(cc_log['Percentage_in_Training_Set'])\n",
    "ax.legend()\n",
    "plt.show()"
   ]
  },
  {
   "cell_type": "code",
   "execution_count": 170,
   "id": "d3cde6a2",
   "metadata": {},
   "outputs": [],
   "source": [
    "et_log_columnnames = [\"Percentage_in_Training_Set\", \"Existential_Threat_Coded_Accuracies\", \"Existential_Threat_Random_Accuracies\"]"
   ]
  },
  {
   "cell_type": "code",
   "execution_count": 175,
   "id": "0f446ee8",
   "metadata": {},
   "outputs": [
    {
     "name": "stderr",
     "output_type": "stream",
     "text": [
      "C:\\Users\\piercev1\\AppData\\Local\\anaconda3\\Lib\\site-packages\\sklearn\\linear_model\\_logistic.py:460: ConvergenceWarning: lbfgs failed to converge (status=1):\n",
      "STOP: TOTAL NO. of ITERATIONS REACHED LIMIT.\n",
      "\n",
      "Increase the number of iterations (max_iter) or scale the data as shown in:\n",
      "    https://scikit-learn.org/stable/modules/preprocessing.html\n",
      "Please also refer to the documentation for alternative solver options:\n",
      "    https://scikit-learn.org/stable/modules/linear_model.html#logistic-regression\n",
      "  n_iter_i = _check_optimize_result(\n",
      "C:\\Users\\piercev1\\AppData\\Local\\anaconda3\\Lib\\site-packages\\sklearn\\linear_model\\_logistic.py:460: ConvergenceWarning: lbfgs failed to converge (status=1):\n",
      "STOP: TOTAL NO. of ITERATIONS REACHED LIMIT.\n",
      "\n",
      "Increase the number of iterations (max_iter) or scale the data as shown in:\n",
      "    https://scikit-learn.org/stable/modules/preprocessing.html\n",
      "Please also refer to the documentation for alternative solver options:\n",
      "    https://scikit-learn.org/stable/modules/linear_model.html#logistic-regression\n",
      "  n_iter_i = _check_optimize_result(\n",
      "C:\\Users\\piercev1\\AppData\\Local\\anaconda3\\Lib\\site-packages\\sklearn\\linear_model\\_logistic.py:460: ConvergenceWarning: lbfgs failed to converge (status=1):\n",
      "STOP: TOTAL NO. of ITERATIONS REACHED LIMIT.\n",
      "\n",
      "Increase the number of iterations (max_iter) or scale the data as shown in:\n",
      "    https://scikit-learn.org/stable/modules/preprocessing.html\n",
      "Please also refer to the documentation for alternative solver options:\n",
      "    https://scikit-learn.org/stable/modules/linear_model.html#logistic-regression\n",
      "  n_iter_i = _check_optimize_result(\n",
      "C:\\Users\\piercev1\\AppData\\Local\\anaconda3\\Lib\\site-packages\\sklearn\\linear_model\\_logistic.py:460: ConvergenceWarning: lbfgs failed to converge (status=1):\n",
      "STOP: TOTAL NO. of ITERATIONS REACHED LIMIT.\n",
      "\n",
      "Increase the number of iterations (max_iter) or scale the data as shown in:\n",
      "    https://scikit-learn.org/stable/modules/preprocessing.html\n",
      "Please also refer to the documentation for alternative solver options:\n",
      "    https://scikit-learn.org/stable/modules/linear_model.html#logistic-regression\n",
      "  n_iter_i = _check_optimize_result(\n",
      "C:\\Users\\piercev1\\AppData\\Local\\anaconda3\\Lib\\site-packages\\sklearn\\linear_model\\_logistic.py:460: ConvergenceWarning: lbfgs failed to converge (status=1):\n",
      "STOP: TOTAL NO. of ITERATIONS REACHED LIMIT.\n",
      "\n",
      "Increase the number of iterations (max_iter) or scale the data as shown in:\n",
      "    https://scikit-learn.org/stable/modules/preprocessing.html\n",
      "Please also refer to the documentation for alternative solver options:\n",
      "    https://scikit-learn.org/stable/modules/linear_model.html#logistic-regression\n",
      "  n_iter_i = _check_optimize_result(\n",
      "C:\\Users\\piercev1\\AppData\\Local\\anaconda3\\Lib\\site-packages\\sklearn\\linear_model\\_logistic.py:460: ConvergenceWarning: lbfgs failed to converge (status=1):\n",
      "STOP: TOTAL NO. of ITERATIONS REACHED LIMIT.\n",
      "\n",
      "Increase the number of iterations (max_iter) or scale the data as shown in:\n",
      "    https://scikit-learn.org/stable/modules/preprocessing.html\n",
      "Please also refer to the documentation for alternative solver options:\n",
      "    https://scikit-learn.org/stable/modules/linear_model.html#logistic-regression\n",
      "  n_iter_i = _check_optimize_result(\n",
      "C:\\Users\\piercev1\\AppData\\Local\\anaconda3\\Lib\\site-packages\\sklearn\\linear_model\\_logistic.py:460: ConvergenceWarning: lbfgs failed to converge (status=1):\n",
      "STOP: TOTAL NO. of ITERATIONS REACHED LIMIT.\n",
      "\n",
      "Increase the number of iterations (max_iter) or scale the data as shown in:\n",
      "    https://scikit-learn.org/stable/modules/preprocessing.html\n",
      "Please also refer to the documentation for alternative solver options:\n",
      "    https://scikit-learn.org/stable/modules/linear_model.html#logistic-regression\n",
      "  n_iter_i = _check_optimize_result(\n",
      "C:\\Users\\piercev1\\AppData\\Local\\anaconda3\\Lib\\site-packages\\sklearn\\linear_model\\_logistic.py:460: ConvergenceWarning: lbfgs failed to converge (status=1):\n",
      "STOP: TOTAL NO. of ITERATIONS REACHED LIMIT.\n",
      "\n",
      "Increase the number of iterations (max_iter) or scale the data as shown in:\n",
      "    https://scikit-learn.org/stable/modules/preprocessing.html\n",
      "Please also refer to the documentation for alternative solver options:\n",
      "    https://scikit-learn.org/stable/modules/linear_model.html#logistic-regression\n",
      "  n_iter_i = _check_optimize_result(\n"
     ]
    }
   ],
   "source": [
    "et_log_data = [\n",
    "    [0.5, guidelines_accuracy(Y_2, 0.5), guidelines_accuracy(Y_2random, 0.5)],\n",
    "    [0.6, guidelines_accuracy(Y_2, 0.6), guidelines_accuracy(Y_2random, 0.6)],\n",
    "    [0.7, guidelines_accuracy(Y_2, 0.7), guidelines_accuracy(Y_2random, 0.7)],\n",
    "    [0.8, guidelines_accuracy(Y_2, 0.8), guidelines_accuracy(Y_2random, 0.8)],\n",
    "    [0.9, guidelines_accuracy(Y_2, 0.9), guidelines_accuracy(Y_2random, 0.9)]\n",
    "        ]"
   ]
  },
  {
   "cell_type": "code",
   "execution_count": 176,
   "id": "5d4874a3",
   "metadata": {},
   "outputs": [],
   "source": [
    "et_log = pd.DataFrame(et_log_data, columns = et_log_columnnames)"
   ]
  },
  {
   "cell_type": "code",
   "execution_count": 177,
   "id": "a9f838b9",
   "metadata": {},
   "outputs": [
    {
     "data": {
      "text/html": [
       "<div>\n",
       "<style scoped>\n",
       "    .dataframe tbody tr th:only-of-type {\n",
       "        vertical-align: middle;\n",
       "    }\n",
       "\n",
       "    .dataframe tbody tr th {\n",
       "        vertical-align: top;\n",
       "    }\n",
       "\n",
       "    .dataframe thead th {\n",
       "        text-align: right;\n",
       "    }\n",
       "</style>\n",
       "<table border=\"1\" class=\"dataframe\">\n",
       "  <thead>\n",
       "    <tr style=\"text-align: right;\">\n",
       "      <th></th>\n",
       "      <th>Percentage_in_Training_Set</th>\n",
       "      <th>Existential_Threat_Coded_Accuracies</th>\n",
       "      <th>Existential_Threat_Random_Accuracies</th>\n",
       "    </tr>\n",
       "  </thead>\n",
       "  <tbody>\n",
       "    <tr>\n",
       "      <th>0</th>\n",
       "      <td>0.5</td>\n",
       "      <td>0.833333</td>\n",
       "      <td>0.825397</td>\n",
       "    </tr>\n",
       "    <tr>\n",
       "      <th>1</th>\n",
       "      <td>0.6</td>\n",
       "      <td>0.847682</td>\n",
       "      <td>0.841060</td>\n",
       "    </tr>\n",
       "    <tr>\n",
       "      <th>2</th>\n",
       "      <td>0.7</td>\n",
       "      <td>0.806818</td>\n",
       "      <td>0.789773</td>\n",
       "    </tr>\n",
       "    <tr>\n",
       "      <th>3</th>\n",
       "      <td>0.8</td>\n",
       "      <td>0.830846</td>\n",
       "      <td>0.686567</td>\n",
       "    </tr>\n",
       "    <tr>\n",
       "      <th>4</th>\n",
       "      <td>0.9</td>\n",
       "      <td>0.809735</td>\n",
       "      <td>0.730088</td>\n",
       "    </tr>\n",
       "  </tbody>\n",
       "</table>\n",
       "</div>"
      ],
      "text/plain": [
       "   Percentage_in_Training_Set  Existential_Threat_Coded_Accuracies  \\\n",
       "0                         0.5                             0.833333   \n",
       "1                         0.6                             0.847682   \n",
       "2                         0.7                             0.806818   \n",
       "3                         0.8                             0.830846   \n",
       "4                         0.9                             0.809735   \n",
       "\n",
       "   Existential_Threat_Random_Accuracies  \n",
       "0                              0.825397  \n",
       "1                              0.841060  \n",
       "2                              0.789773  \n",
       "3                              0.686567  \n",
       "4                              0.730088  "
      ]
     },
     "execution_count": 177,
     "metadata": {},
     "output_type": "execute_result"
    }
   ],
   "source": [
    "et_log.head()"
   ]
  },
  {
   "cell_type": "code",
   "execution_count": 178,
   "id": "854fa6c9",
   "metadata": {},
   "outputs": [
    {
     "data": {
      "image/png": "[encoded data removed]",
      "text/plain": [
       "<Figure size 640x480 with 1 Axes>"
      ]
     },
     "metadata": {},
     "output_type": "display_data"
    }
   ],
   "source": [
    "bar_width = 0.35\n",
    "index = np.arange(len(et_log[\"Percentage_in_Training_Set\"]))\n",
    "fig, ax = plt.subplots()\n",
    "bar1 = ax.bar(index, et_log[\"Existential_Threat_Coded_Accuracies\"], bar_width, label = 'Coded')\n",
    "bar2 = ax.bar(index + bar_width, et_log['Existential_Threat_Random_Accuracies'], bar_width, label = 'Random')\n",
    "\n",
    "ax.set_ylim(0,1)\n",
    "ax.set_xlabel(\"Percentage in Training Set\")\n",
    "ax.set_ylabel(\"Accuracies of Logistic Model\")\n",
    "ax.set_title(\"Accuracies for Existential Threat Using Logistic Regression\")\n",
    "ax.set_xticks(index + bar_width/2)\n",
    "ax.set_xticklabels(cc_log['Percentage_in_Training_Set'])\n",
    "ax.legend()\n",
    "plt.show()"
   ]
  },
  {
   "cell_type": "code",
   "execution_count": 179,
   "id": "321d3453",
   "metadata": {},
   "outputs": [],
   "source": [
    "tg_log_columnnames = [\"Percentage_in_Training_Set\", \"Target_Group_Coded_Accuracies\", \"Target_Group_Random_Accuracies\"]"
   ]
  },
  {
   "cell_type": "code",
   "execution_count": 180,
   "id": "91a35fae",
   "metadata": {},
   "outputs": [
    {
     "name": "stderr",
     "output_type": "stream",
     "text": [
      "C:\\Users\\piercev1\\AppData\\Local\\anaconda3\\Lib\\site-packages\\sklearn\\linear_model\\_logistic.py:460: ConvergenceWarning: lbfgs failed to converge (status=1):\n",
      "STOP: TOTAL NO. of ITERATIONS REACHED LIMIT.\n",
      "\n",
      "Increase the number of iterations (max_iter) or scale the data as shown in:\n",
      "    https://scikit-learn.org/stable/modules/preprocessing.html\n",
      "Please also refer to the documentation for alternative solver options:\n",
      "    https://scikit-learn.org/stable/modules/linear_model.html#logistic-regression\n",
      "  n_iter_i = _check_optimize_result(\n",
      "C:\\Users\\piercev1\\AppData\\Local\\anaconda3\\Lib\\site-packages\\sklearn\\linear_model\\_logistic.py:460: ConvergenceWarning: lbfgs failed to converge (status=1):\n",
      "STOP: TOTAL NO. of ITERATIONS REACHED LIMIT.\n",
      "\n",
      "Increase the number of iterations (max_iter) or scale the data as shown in:\n",
      "    https://scikit-learn.org/stable/modules/preprocessing.html\n",
      "Please also refer to the documentation for alternative solver options:\n",
      "    https://scikit-learn.org/stable/modules/linear_model.html#logistic-regression\n",
      "  n_iter_i = _check_optimize_result(\n",
      "C:\\Users\\piercev1\\AppData\\Local\\anaconda3\\Lib\\site-packages\\sklearn\\linear_model\\_logistic.py:460: ConvergenceWarning: lbfgs failed to converge (status=1):\n",
      "STOP: TOTAL NO. of ITERATIONS REACHED LIMIT.\n",
      "\n",
      "Increase the number of iterations (max_iter) or scale the data as shown in:\n",
      "    https://scikit-learn.org/stable/modules/preprocessing.html\n",
      "Please also refer to the documentation for alternative solver options:\n",
      "    https://scikit-learn.org/stable/modules/linear_model.html#logistic-regression\n",
      "  n_iter_i = _check_optimize_result(\n",
      "C:\\Users\\piercev1\\AppData\\Local\\anaconda3\\Lib\\site-packages\\sklearn\\linear_model\\_logistic.py:460: ConvergenceWarning: lbfgs failed to converge (status=1):\n",
      "STOP: TOTAL NO. of ITERATIONS REACHED LIMIT.\n",
      "\n",
      "Increase the number of iterations (max_iter) or scale the data as shown in:\n",
      "    https://scikit-learn.org/stable/modules/preprocessing.html\n",
      "Please also refer to the documentation for alternative solver options:\n",
      "    https://scikit-learn.org/stable/modules/linear_model.html#logistic-regression\n",
      "  n_iter_i = _check_optimize_result(\n",
      "C:\\Users\\piercev1\\AppData\\Local\\anaconda3\\Lib\\site-packages\\sklearn\\linear_model\\_logistic.py:460: ConvergenceWarning: lbfgs failed to converge (status=1):\n",
      "STOP: TOTAL NO. of ITERATIONS REACHED LIMIT.\n",
      "\n",
      "Increase the number of iterations (max_iter) or scale the data as shown in:\n",
      "    https://scikit-learn.org/stable/modules/preprocessing.html\n",
      "Please also refer to the documentation for alternative solver options:\n",
      "    https://scikit-learn.org/stable/modules/linear_model.html#logistic-regression\n",
      "  n_iter_i = _check_optimize_result(\n",
      "C:\\Users\\piercev1\\AppData\\Local\\anaconda3\\Lib\\site-packages\\sklearn\\linear_model\\_logistic.py:460: ConvergenceWarning: lbfgs failed to converge (status=1):\n",
      "STOP: TOTAL NO. of ITERATIONS REACHED LIMIT.\n",
      "\n",
      "Increase the number of iterations (max_iter) or scale the data as shown in:\n",
      "    https://scikit-learn.org/stable/modules/preprocessing.html\n",
      "Please also refer to the documentation for alternative solver options:\n",
      "    https://scikit-learn.org/stable/modules/linear_model.html#logistic-regression\n",
      "  n_iter_i = _check_optimize_result(\n",
      "C:\\Users\\piercev1\\AppData\\Local\\anaconda3\\Lib\\site-packages\\sklearn\\linear_model\\_logistic.py:460: ConvergenceWarning: lbfgs failed to converge (status=1):\n",
      "STOP: TOTAL NO. of ITERATIONS REACHED LIMIT.\n",
      "\n",
      "Increase the number of iterations (max_iter) or scale the data as shown in:\n",
      "    https://scikit-learn.org/stable/modules/preprocessing.html\n",
      "Please also refer to the documentation for alternative solver options:\n",
      "    https://scikit-learn.org/stable/modules/linear_model.html#logistic-regression\n",
      "  n_iter_i = _check_optimize_result(\n",
      "C:\\Users\\piercev1\\AppData\\Local\\anaconda3\\Lib\\site-packages\\sklearn\\linear_model\\_logistic.py:460: ConvergenceWarning: lbfgs failed to converge (status=1):\n",
      "STOP: TOTAL NO. of ITERATIONS REACHED LIMIT.\n",
      "\n",
      "Increase the number of iterations (max_iter) or scale the data as shown in:\n",
      "    https://scikit-learn.org/stable/modules/preprocessing.html\n",
      "Please also refer to the documentation for alternative solver options:\n",
      "    https://scikit-learn.org/stable/modules/linear_model.html#logistic-regression\n",
      "  n_iter_i = _check_optimize_result(\n"
     ]
    }
   ],
   "source": [
    "tg_log_data = [\n",
    "    [0.5, guidelines_accuracy(Y_3, 0.5), guidelines_accuracy(Y_3random, 0.5)],\n",
    "    [0.6, guidelines_accuracy(Y_3, 0.6), guidelines_accuracy(Y_3random, 0.6)],\n",
    "    [0.7, guidelines_accuracy(Y_3, 0.7), guidelines_accuracy(Y_3random, 0.7)],\n",
    "    [0.8, guidelines_accuracy(Y_3, 0.8), guidelines_accuracy(Y_3random, 0.8)],\n",
    "    [0.9, guidelines_accuracy(Y_3, 0.9), guidelines_accuracy(Y_3random, 0.9)]\n",
    "        ]"
   ]
  },
  {
   "cell_type": "code",
   "execution_count": 181,
   "id": "af2a9a40",
   "metadata": {},
   "outputs": [],
   "source": [
    "tg_log = pd.DataFrame(tg_log_data, columns = tg_log_columnnames)"
   ]
  },
  {
   "cell_type": "code",
   "execution_count": 182,
   "id": "7bf2f8e2",
   "metadata": {},
   "outputs": [
    {
     "data": {
      "text/html": [
       "<div>\n",
       "<style scoped>\n",
       "    .dataframe tbody tr th:only-of-type {\n",
       "        vertical-align: middle;\n",
       "    }\n",
       "\n",
       "    .dataframe tbody tr th {\n",
       "        vertical-align: top;\n",
       "    }\n",
       "\n",
       "    .dataframe thead th {\n",
       "        text-align: right;\n",
       "    }\n",
       "</style>\n",
       "<table border=\"1\" class=\"dataframe\">\n",
       "  <thead>\n",
       "    <tr style=\"text-align: right;\">\n",
       "      <th></th>\n",
       "      <th>Percentage_in_Training_Set</th>\n",
       "      <th>Target_Group_Coded_Accuracies</th>\n",
       "      <th>Target_Group_Random_Accuracies</th>\n",
       "    </tr>\n",
       "  </thead>\n",
       "  <tbody>\n",
       "    <tr>\n",
       "      <th>0</th>\n",
       "      <td>0.5</td>\n",
       "      <td>0.833333</td>\n",
       "      <td>0.666667</td>\n",
       "    </tr>\n",
       "    <tr>\n",
       "      <th>1</th>\n",
       "      <td>0.6</td>\n",
       "      <td>0.794702</td>\n",
       "      <td>0.662252</td>\n",
       "    </tr>\n",
       "    <tr>\n",
       "      <th>2</th>\n",
       "      <td>0.7</td>\n",
       "      <td>0.767045</td>\n",
       "      <td>0.642045</td>\n",
       "    </tr>\n",
       "    <tr>\n",
       "      <th>3</th>\n",
       "      <td>0.8</td>\n",
       "      <td>0.796020</td>\n",
       "      <td>0.636816</td>\n",
       "    </tr>\n",
       "    <tr>\n",
       "      <th>4</th>\n",
       "      <td>0.9</td>\n",
       "      <td>0.738938</td>\n",
       "      <td>0.566372</td>\n",
       "    </tr>\n",
       "  </tbody>\n",
       "</table>\n",
       "</div>"
      ],
      "text/plain": [
       "   Percentage_in_Training_Set  Target_Group_Coded_Accuracies  \\\n",
       "0                         0.5                       0.833333   \n",
       "1                         0.6                       0.794702   \n",
       "2                         0.7                       0.767045   \n",
       "3                         0.8                       0.796020   \n",
       "4                         0.9                       0.738938   \n",
       "\n",
       "   Target_Group_Random_Accuracies  \n",
       "0                        0.666667  \n",
       "1                        0.662252  \n",
       "2                        0.642045  \n",
       "3                        0.636816  \n",
       "4                        0.566372  "
      ]
     },
     "execution_count": 182,
     "metadata": {},
     "output_type": "execute_result"
    }
   ],
   "source": [
    "tg_log.head()"
   ]
  },
  {
   "cell_type": "code",
   "execution_count": 183,
   "id": "e1adb67b",
   "metadata": {},
   "outputs": [
    {
     "data": {
      "image/png": "[encoded data removed]",
      "text/plain": [
       "<Figure size 640x480 with 1 Axes>"
      ]
     },
     "metadata": {},
     "output_type": "display_data"
    }
   ],
   "source": [
    "bar_width = 0.35\n",
    "index = np.arange(len(tg_log[\"Percentage_in_Training_Set\"]))\n",
    "fig, ax = plt.subplots()\n",
    "bar1 = ax.bar(index, tg_log[\"Target_Group_Coded_Accuracies\"], bar_width, label = 'Coded')\n",
    "bar2 = ax.bar(index + bar_width, tg_log['Target_Group_Random_Accuracies'], bar_width, label = 'Random')\n",
    "\n",
    "ax.set_ylim(0,1)\n",
    "ax.set_xlabel(\"Percentage in Training Set\")\n",
    "ax.set_ylabel(\"Accuracies of Logistic Model\")\n",
    "ax.set_title(\"Accuracies for Identified Target Group Using Logistic Regression\")\n",
    "ax.set_xticks(index + bar_width/2)\n",
    "ax.set_xticklabels(cc_log['Percentage_in_Training_Set'])\n",
    "ax.legend()\n",
    "plt.show()"
   ]
  },
  {
   "cell_type": "code",
   "execution_count": 186,
   "id": "9dffbd76",
   "metadata": {},
   "outputs": [],
   "source": [
    "cc_rf_data = [\n",
    "    [0.5, guidelines_accuracy_rf(Y_1, 0.5), guidelines_accuracy_rf(Y_1random, 0.5)],\n",
    "    [0.6, guidelines_accuracy_rf(Y_1, 0.6), guidelines_accuracy_rf(Y_1random, 0.6)],\n",
    "    [0.7, guidelines_accuracy_rf(Y_1, 0.7), guidelines_accuracy_rf(Y_1random, 0.7)],\n",
    "    [0.8, guidelines_accuracy_rf(Y_1, 0.8), guidelines_accuracy_rf(Y_1random, 0.8)],\n",
    "    [0.9, guidelines_accuracy_rf(Y_1, 0.9), guidelines_accuracy_rf(Y_1random, 0.9)]\n",
    "        ]"
   ]
  },
  {
   "cell_type": "code",
   "execution_count": 187,
   "id": "8c54dba2",
   "metadata": {},
   "outputs": [],
   "source": [
    "cc_rf = pd.DataFrame(cc_rf_data, columns = cc_log_columnnames)"
   ]
  },
  {
   "cell_type": "code",
   "execution_count": 188,
   "id": "4cfd0b9a",
   "metadata": {},
   "outputs": [
    {
     "data": {
      "text/html": [
       "<div>\n",
       "<style scoped>\n",
       "    .dataframe tbody tr th:only-of-type {\n",
       "        vertical-align: middle;\n",
       "    }\n",
       "\n",
       "    .dataframe tbody tr th {\n",
       "        vertical-align: top;\n",
       "    }\n",
       "\n",
       "    .dataframe thead th {\n",
       "        text-align: right;\n",
       "    }\n",
       "</style>\n",
       "<table border=\"1\" class=\"dataframe\">\n",
       "  <thead>\n",
       "    <tr style=\"text-align: right;\">\n",
       "      <th></th>\n",
       "      <th>Percentage_in_Training_Set</th>\n",
       "      <th>Coercive_Control_Coded_Accuracies</th>\n",
       "      <th>Coercive_Control_Random_Accuracies</th>\n",
       "    </tr>\n",
       "  </thead>\n",
       "  <tbody>\n",
       "    <tr>\n",
       "      <th>0</th>\n",
       "      <td>0.5</td>\n",
       "      <td>0.825397</td>\n",
       "      <td>0.619048</td>\n",
       "    </tr>\n",
       "    <tr>\n",
       "      <th>1</th>\n",
       "      <td>0.6</td>\n",
       "      <td>0.841060</td>\n",
       "      <td>0.701987</td>\n",
       "    </tr>\n",
       "    <tr>\n",
       "      <th>2</th>\n",
       "      <td>0.7</td>\n",
       "      <td>0.823864</td>\n",
       "      <td>0.676136</td>\n",
       "    </tr>\n",
       "    <tr>\n",
       "      <th>3</th>\n",
       "      <td>0.8</td>\n",
       "      <td>0.810945</td>\n",
       "      <td>0.656716</td>\n",
       "    </tr>\n",
       "    <tr>\n",
       "      <th>4</th>\n",
       "      <td>0.9</td>\n",
       "      <td>0.783186</td>\n",
       "      <td>0.654867</td>\n",
       "    </tr>\n",
       "  </tbody>\n",
       "</table>\n",
       "</div>"
      ],
      "text/plain": [
       "   Percentage_in_Training_Set  Coercive_Control_Coded_Accuracies  \\\n",
       "0                         0.5                           0.825397   \n",
       "1                         0.6                           0.841060   \n",
       "2                         0.7                           0.823864   \n",
       "3                         0.8                           0.810945   \n",
       "4                         0.9                           0.783186   \n",
       "\n",
       "   Coercive_Control_Random_Accuracies  \n",
       "0                            0.619048  \n",
       "1                            0.701987  \n",
       "2                            0.676136  \n",
       "3                            0.656716  \n",
       "4                            0.654867  "
      ]
     },
     "execution_count": 188,
     "metadata": {},
     "output_type": "execute_result"
    }
   ],
   "source": [
    "cc_rf.head()"
   ]
  },
  {
   "cell_type": "code",
   "execution_count": 189,
   "id": "0b0b32a7",
   "metadata": {},
   "outputs": [
    {
     "data": {
      "image/png": "[encoded data removed]",
      "text/plain": [
       "<Figure size 640x480 with 1 Axes>"
      ]
     },
     "metadata": {},
     "output_type": "display_data"
    }
   ],
   "source": [
    "bar_width = 0.35\n",
    "index = np.arange(len(cc_rf[\"Percentage_in_Training_Set\"]))\n",
    "fig, ax = plt.subplots()\n",
    "bar1 = ax.bar(index, cc_rf[\"Coercive_Control_Coded_Accuracies\"], bar_width, label = 'Coded')\n",
    "bar2 = ax.bar(index + bar_width, cc_rf['Coercive_Control_Random_Accuracies'], bar_width, label = 'Random')\n",
    "\n",
    "ax.set_ylim(0,1)\n",
    "ax.set_xlabel(\"Percentage in Training Set\")\n",
    "ax.set_ylabel(\"Accuracies of Logistic Model\")\n",
    "ax.set_title(\"Accuracies for Coercive Control Using Random Forest\")\n",
    "ax.set_xticks(index + bar_width/2)\n",
    "ax.set_xticklabels(cc_rf['Percentage_in_Training_Set'])\n",
    "ax.legend()\n",
    "plt.show()"
   ]
  },
  {
   "cell_type": "code",
   "execution_count": 190,
   "id": "d260ae7d",
   "metadata": {},
   "outputs": [],
   "source": [
    "et_rf_data = [\n",
    "    [0.5, guidelines_accuracy_rf(Y_2, 0.5), guidelines_accuracy_rf(Y_2random, 0.5)],\n",
    "    [0.6, guidelines_accuracy_rf(Y_2, 0.6), guidelines_accuracy_rf(Y_2random, 0.6)],\n",
    "    [0.7, guidelines_accuracy_rf(Y_2, 0.7), guidelines_accuracy_rf(Y_2random, 0.7)],\n",
    "    [0.8, guidelines_accuracy_rf(Y_2, 0.8), guidelines_accuracy_rf(Y_2random, 0.8)],\n",
    "    [0.9, guidelines_accuracy_rf(Y_2, 0.9), guidelines_accuracy_rf(Y_2random, 0.9)]\n",
    "        ]"
   ]
  },
  {
   "cell_type": "code",
   "execution_count": 191,
   "id": "1060e0a5",
   "metadata": {},
   "outputs": [],
   "source": [
    "et_rf = pd.DataFrame(et_rf_data, columns = et_log_columnnames)"
   ]
  },
  {
   "cell_type": "code",
   "execution_count": 192,
   "id": "6c05d384",
   "metadata": {},
   "outputs": [
    {
     "data": {
      "text/html": [
       "<div>\n",
       "<style scoped>\n",
       "    .dataframe tbody tr th:only-of-type {\n",
       "        vertical-align: middle;\n",
       "    }\n",
       "\n",
       "    .dataframe tbody tr th {\n",
       "        vertical-align: top;\n",
       "    }\n",
       "\n",
       "    .dataframe thead th {\n",
       "        text-align: right;\n",
       "    }\n",
       "</style>\n",
       "<table border=\"1\" class=\"dataframe\">\n",
       "  <thead>\n",
       "    <tr style=\"text-align: right;\">\n",
       "      <th></th>\n",
       "      <th>Percentage_in_Training_Set</th>\n",
       "      <th>Existential_Threat_Coded_Accuracies</th>\n",
       "      <th>Existential_Threat_Random_Accuracies</th>\n",
       "    </tr>\n",
       "  </thead>\n",
       "  <tbody>\n",
       "    <tr>\n",
       "      <th>0</th>\n",
       "      <td>0.5</td>\n",
       "      <td>0.833333</td>\n",
       "      <td>0.825397</td>\n",
       "    </tr>\n",
       "    <tr>\n",
       "      <th>1</th>\n",
       "      <td>0.6</td>\n",
       "      <td>0.874172</td>\n",
       "      <td>0.834437</td>\n",
       "    </tr>\n",
       "    <tr>\n",
       "      <th>2</th>\n",
       "      <td>0.7</td>\n",
       "      <td>0.840909</td>\n",
       "      <td>0.812500</td>\n",
       "    </tr>\n",
       "    <tr>\n",
       "      <th>3</th>\n",
       "      <td>0.8</td>\n",
       "      <td>0.840796</td>\n",
       "      <td>0.810945</td>\n",
       "    </tr>\n",
       "    <tr>\n",
       "      <th>4</th>\n",
       "      <td>0.9</td>\n",
       "      <td>0.849558</td>\n",
       "      <td>0.778761</td>\n",
       "    </tr>\n",
       "  </tbody>\n",
       "</table>\n",
       "</div>"
      ],
      "text/plain": [
       "   Percentage_in_Training_Set  Existential_Threat_Coded_Accuracies  \\\n",
       "0                         0.5                             0.833333   \n",
       "1                         0.6                             0.874172   \n",
       "2                         0.7                             0.840909   \n",
       "3                         0.8                             0.840796   \n",
       "4                         0.9                             0.849558   \n",
       "\n",
       "   Existential_Threat_Random_Accuracies  \n",
       "0                              0.825397  \n",
       "1                              0.834437  \n",
       "2                              0.812500  \n",
       "3                              0.810945  \n",
       "4                              0.778761  "
      ]
     },
     "execution_count": 192,
     "metadata": {},
     "output_type": "execute_result"
    }
   ],
   "source": [
    "et_rf.head()"
   ]
  },
  {
   "cell_type": "code",
   "execution_count": 193,
   "id": "84e121cf",
   "metadata": {},
   "outputs": [
    {
     "data": {
      "image/png": "[encoded data removed]",
      "text/plain": [
       "<Figure size 640x480 with 1 Axes>"
      ]
     },
     "metadata": {},
     "output_type": "display_data"
    }
   ],
   "source": [
    "bar_width = 0.35\n",
    "index = np.arange(len(et_rf[\"Percentage_in_Training_Set\"]))\n",
    "fig, ax = plt.subplots()\n",
    "bar1 = ax.bar(index, et_rf[\"Existential_Threat_Coded_Accuracies\"], bar_width, label = 'Coded')\n",
    "bar2 = ax.bar(index + bar_width, et_rf['Existential_Threat_Random_Accuracies'], bar_width, label = 'Random')\n",
    "\n",
    "ax.set_ylim(0,1)\n",
    "ax.set_xlabel(\"Percentage in Training Set\")\n",
    "ax.set_ylabel(\"Accuracies of Logistic Model\")\n",
    "ax.set_title(\"Accuracies for Existential Threat Using Random Forest\")\n",
    "ax.set_xticks(index + bar_width/2)\n",
    "ax.set_xticklabels(et_rf['Percentage_in_Training_Set'])\n",
    "ax.legend()\n",
    "plt.show()"
   ]
  },
  {
   "cell_type": "code",
   "execution_count": 194,
   "id": "87dea4f3",
   "metadata": {},
   "outputs": [],
   "source": [
    "tg_rf_data = [\n",
    "    [0.5, guidelines_accuracy_rf(Y_3, 0.5), guidelines_accuracy_rf(Y_3random, 0.5)],\n",
    "    [0.6, guidelines_accuracy_rf(Y_3, 0.6), guidelines_accuracy_rf(Y_3random, 0.6)],\n",
    "    [0.7, guidelines_accuracy_rf(Y_3, 0.7), guidelines_accuracy_rf(Y_3random, 0.7)],\n",
    "    [0.8, guidelines_accuracy_rf(Y_3, 0.8), guidelines_accuracy_rf(Y_3random, 0.8)],\n",
    "    [0.9, guidelines_accuracy_rf(Y_3, 0.9), guidelines_accuracy_rf(Y_3random, 0.9)]\n",
    "        ]"
   ]
  },
  {
   "cell_type": "code",
   "execution_count": 195,
   "id": "fd281cab",
   "metadata": {},
   "outputs": [],
   "source": [
    "tg_rf = pd.DataFrame(tg_rf_data, columns = tg_log_columnnames)"
   ]
  },
  {
   "cell_type": "code",
   "execution_count": 197,
   "id": "faa0123e",
   "metadata": {},
   "outputs": [
    {
     "data": {
      "image/png": "[encoded data removed]",
      "text/plain": [
       "<Figure size 640x480 with 1 Axes>"
      ]
     },
     "metadata": {},
     "output_type": "display_data"
    }
   ],
   "source": [
    "bar_width = 0.35\n",
    "index = np.arange(len(tg_rf[\"Percentage_in_Training_Set\"]))\n",
    "fig, ax = plt.subplots()\n",
    "bar1 = ax.bar(index, tg_rf[\"Target_Group_Coded_Accuracies\"], bar_width, label = 'Coded')\n",
    "bar2 = ax.bar(index + bar_width, tg_rf['Target_Group_Random_Accuracies'], bar_width, label = 'Random')\n",
    "\n",
    "ax.set_ylim(0,1)\n",
    "ax.set_xlabel(\"Percentage in Training Set\")\n",
    "ax.set_ylabel(\"Accuracies of Logistic Model\")\n",
    "ax.set_title(\"Accuracies for Identified Target Group Using Random Forest\")\n",
    "ax.set_xticks(index + bar_width/2)\n",
    "ax.set_xticklabels(tg_rf['Percentage_in_Training_Set'])\n",
    "ax.legend()\n",
    "plt.show()"
   ]
  },
  {
   "cell_type": "code",
   "execution_count": 203,
   "id": "0e62294c",
   "metadata": {},
   "outputs": [],
   "source": [
    "cc_log_list_coded = []\n",
    "cc_log_list_random = []\n",
    "for i in range(0,10000):\n",
    "    acc_coded = guidelines_accuracy(Y_1, 0.5)\n",
    "    acc_random = guidelines_accuracy(Y_1random, 0.5)\n",
    "    cc_log_list_coded.append(acc_coded)\n",
    "    cc_log_list_random.append(acc_random)"
   ]
  },
  {
   "cell_type": "code",
   "execution_count": 204,
   "id": "618bce6e",
   "metadata": {},
   "outputs": [
    {
     "data": {
      "text/plain": [
       "10000"
      ]
     },
     "execution_count": 204,
     "metadata": {},
     "output_type": "execute_result"
    }
   ],
   "source": [
    "len(cc_log_list_coded)"
   ]
  },
  {
   "cell_type": "code",
   "execution_count": 205,
   "id": "5a67f7bb",
   "metadata": {},
   "outputs": [
    {
     "data": {
      "text/plain": [
       "10000"
      ]
     },
     "execution_count": 205,
     "metadata": {},
     "output_type": "execute_result"
    }
   ],
   "source": [
    "len(cc_log_list_random)"
   ]
  },
  {
   "cell_type": "code",
   "execution_count": 206,
   "id": "02a43026",
   "metadata": {},
   "outputs": [
    {
     "name": "stdout",
     "output_type": "stream",
     "text": [
      "0.746031746031746\n",
      "0.7900277777777779\n",
      "0.7936507936507936\n",
      "0.8253968253968254\n"
     ]
    }
   ],
   "source": [
    "print(np.percentile(cc_log_list_coded, 10))\n",
    "print(np.mean(cc_log_list_coded))\n",
    "print(np.percentile(cc_log_list_coded, 50))\n",
    "print(np.percentile(cc_log_list_coded, 90))"
   ]
  },
  {
   "cell_type": "code",
   "execution_count": 207,
   "id": "f84d2c13",
   "metadata": {},
   "outputs": [
    {
     "name": "stdout",
     "output_type": "stream",
     "text": [
      "0.6031746031746031\n",
      "0.6499777777777778\n",
      "0.6507936507936508\n",
      "0.6904761904761905\n"
     ]
    }
   ],
   "source": [
    "print(np.percentile(cc_log_list_random, 10))\n",
    "print(np.mean(cc_log_list_random))\n",
    "print(np.percentile(cc_log_list_random, 50))\n",
    "print(np.percentile(cc_log_list_random, 90))"
   ]
  },
  {
   "cell_type": "code",
   "execution_count": 208,
   "id": "242257ee",
   "metadata": {},
   "outputs": [],
   "source": [
    "list1 = [4,5,6]\n",
    "list2 = [1,2,3]"
   ]
  },
  {
   "cell_type": "code",
   "execution_count": 209,
   "id": "37ff44dc",
   "metadata": {},
   "outputs": [
    {
     "data": {
      "text/plain": [
       "[4, 5, 6]"
      ]
     },
     "execution_count": 209,
     "metadata": {},
     "output_type": "execute_result"
    }
   ],
   "source": [
    "list1"
   ]
  },
  {
   "cell_type": "code",
   "execution_count": 210,
   "id": "05626f5a",
   "metadata": {},
   "outputs": [
    {
     "data": {
      "text/plain": [
       "[1, 2, 3]"
      ]
     },
     "execution_count": 210,
     "metadata": {},
     "output_type": "execute_result"
    }
   ],
   "source": [
    "list2"
   ]
  },
  {
   "cell_type": "code",
   "execution_count": 218,
   "id": "fcf8ed3a",
   "metadata": {},
   "outputs": [],
   "source": [
    "def bts_log(Y, t):\n",
    "    list = []\n",
    "    for i in range(0,10000):\n",
    "        acc = guidelines_accuracy(Y, t)\n",
    "        list.append(acc)\n",
    "    print(\"Done\")\n",
    "    return(list)"
   ]
  },
  {
   "cell_type": "code",
   "execution_count": 219,
   "id": "d19c717b",
   "metadata": {},
   "outputs": [],
   "source": [
    "def bts_rf(Y, t):\n",
    "    list = []\n",
    "    for i in range(0,10000):\n",
    "        acc = guidelines_accuracy_rf(Y, t)\n",
    "        list.append(acc)\n",
    "    print(\"Done\")\n",
    "    return(list)"
   ]
  },
  {
   "cell_type": "code",
   "execution_count": 223,
   "id": "9716001a",
   "metadata": {},
   "outputs": [
    {
     "name": "stdout",
     "output_type": "stream",
     "text": [
      "Done\n",
      "Done\n",
      "Done\n",
      "Done\n",
      "Done\n"
     ]
    }
   ],
   "source": [
    "cc_log_coded_50 = bts_log(Y_1, 0.5)\n",
    "cc_log_coded_60 = bts_log(Y_1, 0.6)\n",
    "cc_log_coded_70 = bts_log(Y_1, 0.7)\n",
    "cc_log_coded_80 = bts_log(Y_1, 0.8)\n",
    "cc_log_coded_90 = bts_log(Y_1, 0.9)"
   ]
  },
  {
   "cell_type": "code",
   "execution_count": 224,
   "id": "25b0d5b7",
   "metadata": {},
   "outputs": [
    {
     "name": "stdout",
     "output_type": "stream",
     "text": [
      "Done\n",
      "Done\n",
      "Done\n",
      "Done\n",
      "Done\n"
     ]
    }
   ],
   "source": [
    "cc_log_random_50 = bts_log(Y_1random, 0.5)\n",
    "cc_log_random_60 = bts_log(Y_1random, 0.6)\n",
    "cc_log_random_70 = bts_log(Y_1random, 0.7)\n",
    "cc_log_random_80 = bts_log(Y_1random, 0.8)\n",
    "cc_log_random_90 = bts_log(Y_1random, 0.9)"
   ]
  },
  {
   "cell_type": "code",
   "execution_count": 225,
   "id": "79c6f35c",
   "metadata": {},
   "outputs": [
    {
     "name": "stdout",
     "output_type": "stream",
     "text": [
      "Done\n",
      "Done\n",
      "Done\n",
      "Done\n",
      "Done\n"
     ]
    }
   ],
   "source": [
    "et_log_coded_50 = bts_log(Y_2, 0.5)\n",
    "et_log_coded_60 = bts_log(Y_2, 0.6)\n",
    "et_log_coded_70 = bts_log(Y_2, 0.7)\n",
    "et_log_coded_80 = bts_log(Y_2, 0.8)\n",
    "et_log_coded_90 = bts_log(Y_2, 0.9)"
   ]
  },
  {
   "cell_type": "code",
   "execution_count": 226,
   "id": "969a8ce3",
   "metadata": {},
   "outputs": [
    {
     "name": "stdout",
     "output_type": "stream",
     "text": [
      "Done\n",
      "Done\n",
      "Done\n",
      "Done\n",
      "Done\n"
     ]
    }
   ],
   "source": [
    "et_log_random_50 = bts_log(Y_2random, 0.5)\n",
    "et_log_random_60 = bts_log(Y_2random, 0.6)\n",
    "et_log_random_70 = bts_log(Y_2random, 0.7)\n",
    "et_log_random_80 = bts_log(Y_2random, 0.8)\n",
    "et_log_random_90 = bts_log(Y_2random, 0.9)"
   ]
  },
  {
   "cell_type": "code",
   "execution_count": 227,
   "id": "446e3d8c",
   "metadata": {},
   "outputs": [
    {
     "name": "stdout",
     "output_type": "stream",
     "text": [
      "Done\n",
      "Done\n",
      "Done\n",
      "Done\n",
      "Done\n"
     ]
    }
   ],
   "source": [
    "tg_log_coded_50 = bts_log(Y_3, 0.5)\n",
    "tg_log_coded_60 = bts_log(Y_3, 0.6)\n",
    "tg_log_coded_70 = bts_log(Y_3, 0.7)\n",
    "tg_log_coded_80 = bts_log(Y_3, 0.8)\n",
    "tg_log_coded_90 = bts_log(Y_3, 0.9)"
   ]
  },
  {
   "cell_type": "code",
   "execution_count": 228,
   "id": "9a149b17",
   "metadata": {},
   "outputs": [
    {
     "name": "stdout",
     "output_type": "stream",
     "text": [
      "Done\n",
      "Done\n",
      "Done\n",
      "Done\n",
      "Done\n"
     ]
    }
   ],
   "source": [
    "tg_log_random_50 = bts_log(Y_3random, 0.5)\n",
    "tg_log_random_60 = bts_log(Y_3random, 0.6)\n",
    "tg_log_random_70 = bts_log(Y_3random, 0.7)\n",
    "tg_log_random_80 = bts_log(Y_3random, 0.8)\n",
    "tg_log_random_90 = bts_log(Y_3random, 0.9)"
   ]
  },
  {
   "cell_type": "code",
   "execution_count": 229,
   "id": "318a32d3",
   "metadata": {},
   "outputs": [
    {
     "name": "stdout",
     "output_type": "stream",
     "text": [
      "Done\n",
      "Done\n",
      "Done\n",
      "Done\n",
      "Done\n"
     ]
    }
   ],
   "source": [
    "cc_rf_coded_50 = bts_rf(Y_1, 0.5)\n",
    "cc_rf_coded_60 = bts_rf(Y_1, 0.6)\n",
    "cc_rf_coded_70 = bts_rf(Y_1, 0.7)\n",
    "cc_rf_coded_80 = bts_rf(Y_1, 0.8)\n",
    "cc_rf_coded_90 = bts_rf(Y_1, 0.9)"
   ]
  },
  {
   "cell_type": "code",
   "execution_count": 241,
   "id": "5d7023d5",
   "metadata": {},
   "outputs": [
    {
     "name": "stdout",
     "output_type": "stream",
     "text": [
      "Done\n",
      "Done\n",
      "Done\n",
      "Done\n",
      "Done\n"
     ]
    }
   ],
   "source": [
    "cc_rf_random_50 = bts_rf(Y_1random, 0.5)\n",
    "cc_rf_random_60 = bts_rf(Y_1random, 0.6)\n",
    "cc_rf_random_70 = bts_rf(Y_1random, 0.7)\n",
    "cc_rf_random_80 = bts_rf(Y_1random, 0.8)\n",
    "cc_rf_random_90 = bts_rf(Y_1random, 0.9)"
   ]
  },
  {
   "cell_type": "code",
   "execution_count": 244,
   "id": "62513aba",
   "metadata": {},
   "outputs": [
    {
     "name": "stdout",
     "output_type": "stream",
     "text": [
      "Done\n",
      "Done\n",
      "Done\n",
      "Done\n",
      "Done\n"
     ]
    }
   ],
   "source": [
    "et_rf_coded_50 = bts_rf(Y_2, 0.5)\n",
    "et_rf_coded_60 = bts_rf(Y_2, 0.6)\n",
    "et_rf_coded_70 = bts_rf(Y_2, 0.7)\n",
    "et_rf_coded_80 = bts_rf(Y_2, 0.8)\n",
    "et_rf_coded_90 = bts_rf(Y_2, 0.9)"
   ]
  },
  {
   "cell_type": "code",
   "execution_count": 245,
   "id": "512c8b07",
   "metadata": {},
   "outputs": [
    {
     "name": "stdout",
     "output_type": "stream",
     "text": [
      "Done\n",
      "Done\n",
      "Done\n",
      "Done\n",
      "Done\n"
     ]
    }
   ],
   "source": [
    "et_rf_random_50 = bts_rf(Y_2random, 0.5)\n",
    "et_rf_random_60 = bts_rf(Y_2random, 0.6)\n",
    "et_rf_random_70 = bts_rf(Y_2random, 0.7)\n",
    "et_rf_random_80 = bts_rf(Y_2random, 0.8)\n",
    "et_rf_random_90 = bts_rf(Y_2random, 0.9)"
   ]
  },
  {
   "cell_type": "code",
   "execution_count": 260,
   "id": "1497811e",
   "metadata": {},
   "outputs": [
    {
     "name": "stdout",
     "output_type": "stream",
     "text": [
      "Done\n",
      "Done\n",
      "Done\n",
      "Done\n",
      "Done\n"
     ]
    }
   ],
   "source": [
    "tg_rf_coded_50 = bts_rf(Y_3, 0.5)\n",
    "tg_rf_coded_60 = bts_rf(Y_3, 0.6)\n",
    "tg_rf_coded_70 = bts_rf(Y_3, 0.7)\n",
    "tg_rf_coded_80 = bts_rf(Y_3, 0.8)\n",
    "tg_rf_coded_90 = bts_rf(Y_3, 0.9)"
   ]
  },
  {
   "cell_type": "code",
   "execution_count": 272,
   "id": "4e9b6bde",
   "metadata": {},
   "outputs": [
    {
     "name": "stdout",
     "output_type": "stream",
     "text": [
      "Done\n",
      "Done\n",
      "Done\n",
      "Done\n",
      "Done\n"
     ]
    }
   ],
   "source": [
    "tg_rf_random_50 = bts_rf(Y_3random, 0.5)\n",
    "tg_rf_random_60 = bts_rf(Y_3random, 0.6)\n",
    "tg_rf_random_70 = bts_rf(Y_3random, 0.7)\n",
    "tg_rf_random_80 = bts_rf(Y_3random, 0.8)\n",
    "tg_rf_random_90 = bts_rf(Y_3random, 0.9)"
   ]
  },
  {
   "cell_type": "code",
   "execution_count": 261,
   "id": "bb09502a",
   "metadata": {},
   "outputs": [],
   "source": [
    "cols = [\"Percentage_in_Training_Set\", \"Median_Coded_Accuracies\", \"Coded_Accuracies_Upper_Error\", \"Coded_Accuracies_Lower_Error\", \"Median_Random_Accuracies\", \"Random_Accuracies_Upper_Error\", \"Random_Accuracies_Lower_Error\"]"
   ]
  },
  {
   "cell_type": "code",
   "execution_count": 262,
   "id": "a796f931",
   "metadata": {},
   "outputs": [
    {
     "data": {
      "text/html": [
       "<div>\n",
       "<style scoped>\n",
       "    .dataframe tbody tr th:only-of-type {\n",
       "        vertical-align: middle;\n",
       "    }\n",
       "\n",
       "    .dataframe tbody tr th {\n",
       "        vertical-align: top;\n",
       "    }\n",
       "\n",
       "    .dataframe thead th {\n",
       "        text-align: right;\n",
       "    }\n",
       "</style>\n",
       "<table border=\"1\" class=\"dataframe\">\n",
       "  <thead>\n",
       "    <tr style=\"text-align: right;\">\n",
       "      <th></th>\n",
       "      <th>Percentage_in_Training_Set</th>\n",
       "      <th>Median_Coded_Accuracies</th>\n",
       "      <th>Coded_Accuracies_Upper_Error</th>\n",
       "      <th>Coded_Accuracies_Lower_Error</th>\n",
       "      <th>Median_Random_Accuracies</th>\n",
       "      <th>Random_Accuracies_Upper_Error</th>\n",
       "      <th>Random_Accuracies_Lower_Error</th>\n",
       "    </tr>\n",
       "  </thead>\n",
       "  <tbody>\n",
       "    <tr>\n",
       "      <th>0</th>\n",
       "      <td>0.5</td>\n",
       "      <td>0.793651</td>\n",
       "      <td>0.039683</td>\n",
       "      <td>0.039683</td>\n",
       "      <td>0.658730</td>\n",
       "      <td>0.031746</td>\n",
       "      <td>0.047619</td>\n",
       "    </tr>\n",
       "    <tr>\n",
       "      <th>1</th>\n",
       "      <td>0.6</td>\n",
       "      <td>0.788079</td>\n",
       "      <td>0.033113</td>\n",
       "      <td>0.033113</td>\n",
       "      <td>0.649007</td>\n",
       "      <td>0.033113</td>\n",
       "      <td>0.052980</td>\n",
       "    </tr>\n",
       "    <tr>\n",
       "      <th>2</th>\n",
       "      <td>0.7</td>\n",
       "      <td>0.778409</td>\n",
       "      <td>0.034091</td>\n",
       "      <td>0.034091</td>\n",
       "      <td>0.636364</td>\n",
       "      <td>0.039773</td>\n",
       "      <td>0.051136</td>\n",
       "    </tr>\n",
       "    <tr>\n",
       "      <th>3</th>\n",
       "      <td>0.8</td>\n",
       "      <td>0.771144</td>\n",
       "      <td>0.029851</td>\n",
       "      <td>0.034826</td>\n",
       "      <td>0.626866</td>\n",
       "      <td>0.039801</td>\n",
       "      <td>0.049751</td>\n",
       "    </tr>\n",
       "    <tr>\n",
       "      <th>4</th>\n",
       "      <td>0.9</td>\n",
       "      <td>0.752212</td>\n",
       "      <td>0.035398</td>\n",
       "      <td>0.053097</td>\n",
       "      <td>0.610619</td>\n",
       "      <td>0.048673</td>\n",
       "      <td>0.057522</td>\n",
       "    </tr>\n",
       "  </tbody>\n",
       "</table>\n",
       "</div>"
      ],
      "text/plain": [
       "   Percentage_in_Training_Set  Median_Coded_Accuracies  \\\n",
       "0                         0.5                 0.793651   \n",
       "1                         0.6                 0.788079   \n",
       "2                         0.7                 0.778409   \n",
       "3                         0.8                 0.771144   \n",
       "4                         0.9                 0.752212   \n",
       "\n",
       "   Coded_Accuracies_Upper_Error  Coded_Accuracies_Lower_Error  \\\n",
       "0                      0.039683                      0.039683   \n",
       "1                      0.033113                      0.033113   \n",
       "2                      0.034091                      0.034091   \n",
       "3                      0.029851                      0.034826   \n",
       "4                      0.035398                      0.053097   \n",
       "\n",
       "   Median_Random_Accuracies  Random_Accuracies_Upper_Error  \\\n",
       "0                  0.658730                       0.031746   \n",
       "1                  0.649007                       0.033113   \n",
       "2                  0.636364                       0.039773   \n",
       "3                  0.626866                       0.039801   \n",
       "4                  0.610619                       0.048673   \n",
       "\n",
       "   Random_Accuracies_Lower_Error  \n",
       "0                       0.047619  \n",
       "1                       0.052980  \n",
       "2                       0.051136  \n",
       "3                       0.049751  \n",
       "4                       0.057522  "
      ]
     },
     "execution_count": 262,
     "metadata": {},
     "output_type": "execute_result"
    }
   ],
   "source": [
    "cc_log_data = [\n",
    "    [0.5, np.percentile(cc_log_coded_50, 50), np.percentile(cc_log_coded_50,90)-np.percentile(cc_log_coded_50,50), np.percentile(cc_log_coded_50,50)-np.percentile(cc_log_coded_50,10), np.percentile(cc_log_random_50, 50), np.percentile(cc_log_random_50,90)-np.percentile(cc_log_random_50,50), np.percentile(cc_log_random_50,50)-np.percentile(cc_log_random_50,10)],\n",
    "    [0.6, np.percentile(cc_log_coded_60, 50), np.percentile(cc_log_coded_60,90)-np.percentile(cc_log_coded_60,50), np.percentile(cc_log_coded_60,50)-np.percentile(cc_log_coded_60,10), np.percentile(cc_log_random_60, 50), np.percentile(cc_log_random_60,90)-np.percentile(cc_log_random_60,50), np.percentile(cc_log_random_60,50)-np.percentile(cc_log_random_60,10)],\n",
    "    [0.7, np.percentile(cc_log_coded_70, 50), np.percentile(cc_log_coded_70,90)-np.percentile(cc_log_coded_70,50), np.percentile(cc_log_coded_70,50)-np.percentile(cc_log_coded_70,10), np.percentile(cc_log_random_70, 50), np.percentile(cc_log_random_70,90)-np.percentile(cc_log_random_70,50), np.percentile(cc_log_random_70,50)-np.percentile(cc_log_random_70,10)],\n",
    "    [0.8, np.percentile(cc_log_coded_80, 50), np.percentile(cc_log_coded_80,90)-np.percentile(cc_log_coded_80,50), np.percentile(cc_log_coded_80,50)-np.percentile(cc_log_coded_80,10), np.percentile(cc_log_random_80, 50), np.percentile(cc_log_random_80,90)-np.percentile(cc_log_random_80,50), np.percentile(cc_log_random_80,50)-np.percentile(cc_log_random_80,10)],\n",
    "    [0.9, np.percentile(cc_log_coded_90, 50), np.percentile(cc_log_coded_90,90)-np.percentile(cc_log_coded_90,50), np.percentile(cc_log_coded_90,50)-np.percentile(cc_log_coded_90,10), np.percentile(cc_log_random_90, 50), np.percentile(cc_log_random_90,90)-np.percentile(cc_log_random_90,50), np.percentile(cc_log_random_90,50)-np.percentile(cc_log_random_90,10)]\n",
    "]\n",
    "cc_log = pd.DataFrame(cc_log_data, columns = cols)\n",
    "cc_log.head()"
   ]
  },
  {
   "cell_type": "code",
   "execution_count": 263,
   "id": "a5782de7",
   "metadata": {},
   "outputs": [
    {
     "data": {
      "text/html": [
       "<div>\n",
       "<style scoped>\n",
       "    .dataframe tbody tr th:only-of-type {\n",
       "        vertical-align: middle;\n",
       "    }\n",
       "\n",
       "    .dataframe tbody tr th {\n",
       "        vertical-align: top;\n",
       "    }\n",
       "\n",
       "    .dataframe thead th {\n",
       "        text-align: right;\n",
       "    }\n",
       "</style>\n",
       "<table border=\"1\" class=\"dataframe\">\n",
       "  <thead>\n",
       "    <tr style=\"text-align: right;\">\n",
       "      <th></th>\n",
       "      <th>Percentage_in_Training_Set</th>\n",
       "      <th>Median_Coded_Accuracies</th>\n",
       "      <th>Coded_Accuracies_Upper_Error</th>\n",
       "      <th>Coded_Accuracies_Lower_Error</th>\n",
       "      <th>Median_Random_Accuracies</th>\n",
       "      <th>Random_Accuracies_Upper_Error</th>\n",
       "      <th>Random_Accuracies_Lower_Error</th>\n",
       "    </tr>\n",
       "  </thead>\n",
       "  <tbody>\n",
       "    <tr>\n",
       "      <th>0</th>\n",
       "      <td>0.5</td>\n",
       "      <td>0.849206</td>\n",
       "      <td>0.023810</td>\n",
       "      <td>0.039683</td>\n",
       "      <td>0.801587</td>\n",
       "      <td>0.023810</td>\n",
       "      <td>0.039683</td>\n",
       "    </tr>\n",
       "    <tr>\n",
       "      <th>1</th>\n",
       "      <td>0.6</td>\n",
       "      <td>0.841060</td>\n",
       "      <td>0.033113</td>\n",
       "      <td>0.033113</td>\n",
       "      <td>0.794702</td>\n",
       "      <td>0.026490</td>\n",
       "      <td>0.039735</td>\n",
       "    </tr>\n",
       "    <tr>\n",
       "      <th>2</th>\n",
       "      <td>0.7</td>\n",
       "      <td>0.835227</td>\n",
       "      <td>0.028409</td>\n",
       "      <td>0.034091</td>\n",
       "      <td>0.784091</td>\n",
       "      <td>0.028409</td>\n",
       "      <td>0.045455</td>\n",
       "    </tr>\n",
       "    <tr>\n",
       "      <th>3</th>\n",
       "      <td>0.8</td>\n",
       "      <td>0.830846</td>\n",
       "      <td>0.029851</td>\n",
       "      <td>0.044776</td>\n",
       "      <td>0.766169</td>\n",
       "      <td>0.034826</td>\n",
       "      <td>0.044776</td>\n",
       "    </tr>\n",
       "    <tr>\n",
       "      <th>4</th>\n",
       "      <td>0.9</td>\n",
       "      <td>0.809735</td>\n",
       "      <td>0.035398</td>\n",
       "      <td>0.044248</td>\n",
       "      <td>0.761062</td>\n",
       "      <td>0.039823</td>\n",
       "      <td>0.061947</td>\n",
       "    </tr>\n",
       "  </tbody>\n",
       "</table>\n",
       "</div>"
      ],
      "text/plain": [
       "   Percentage_in_Training_Set  Median_Coded_Accuracies  \\\n",
       "0                         0.5                 0.849206   \n",
       "1                         0.6                 0.841060   \n",
       "2                         0.7                 0.835227   \n",
       "3                         0.8                 0.830846   \n",
       "4                         0.9                 0.809735   \n",
       "\n",
       "   Coded_Accuracies_Upper_Error  Coded_Accuracies_Lower_Error  \\\n",
       "0                      0.023810                      0.039683   \n",
       "1                      0.033113                      0.033113   \n",
       "2                      0.028409                      0.034091   \n",
       "3                      0.029851                      0.044776   \n",
       "4                      0.035398                      0.044248   \n",
       "\n",
       "   Median_Random_Accuracies  Random_Accuracies_Upper_Error  \\\n",
       "0                  0.801587                       0.023810   \n",
       "1                  0.794702                       0.026490   \n",
       "2                  0.784091                       0.028409   \n",
       "3                  0.766169                       0.034826   \n",
       "4                  0.761062                       0.039823   \n",
       "\n",
       "   Random_Accuracies_Lower_Error  \n",
       "0                       0.039683  \n",
       "1                       0.039735  \n",
       "2                       0.045455  \n",
       "3                       0.044776  \n",
       "4                       0.061947  "
      ]
     },
     "execution_count": 263,
     "metadata": {},
     "output_type": "execute_result"
    }
   ],
   "source": [
    "et_log_data = [\n",
    "    [0.5, np.percentile(et_log_coded_50, 50), np.percentile(et_log_coded_50,90)-np.percentile(et_log_coded_50,50), np.percentile(et_log_coded_50,50)-np.percentile(et_log_coded_50,10), np.percentile(et_log_random_50, 50), np.percentile(et_log_random_50,90)-np.percentile(et_log_random_50,50), np.percentile(et_log_random_50,50)-np.percentile(et_log_random_50,10)],\n",
    "    [0.6, np.percentile(et_log_coded_60, 50), np.percentile(et_log_coded_60,90)-np.percentile(et_log_coded_60,50), np.percentile(et_log_coded_60,50)-np.percentile(et_log_coded_60,10), np.percentile(et_log_random_60, 50), np.percentile(et_log_random_60,90)-np.percentile(et_log_random_60,50), np.percentile(et_log_random_60,50)-np.percentile(et_log_random_60,10)],\n",
    "    [0.7, np.percentile(et_log_coded_70, 50), np.percentile(et_log_coded_70,90)-np.percentile(et_log_coded_70,50), np.percentile(et_log_coded_70,50)-np.percentile(et_log_coded_70,10), np.percentile(et_log_random_70, 50), np.percentile(et_log_random_70,90)-np.percentile(et_log_random_70,50), np.percentile(et_log_random_70,50)-np.percentile(et_log_random_70,10)],\n",
    "    [0.8, np.percentile(et_log_coded_80, 50), np.percentile(et_log_coded_80,90)-np.percentile(et_log_coded_80,50), np.percentile(et_log_coded_80,50)-np.percentile(et_log_coded_80,10), np.percentile(et_log_random_80, 50), np.percentile(et_log_random_80,90)-np.percentile(et_log_random_80,50), np.percentile(et_log_random_80,50)-np.percentile(et_log_random_80,10)],\n",
    "    [0.9, np.percentile(et_log_coded_90, 50), np.percentile(et_log_coded_90,90)-np.percentile(et_log_coded_90,50), np.percentile(et_log_coded_90,50)-np.percentile(et_log_coded_90,10), np.percentile(et_log_random_90, 50), np.percentile(et_log_random_90,90)-np.percentile(et_log_random_90,50), np.percentile(et_log_random_90,50)-np.percentile(et_log_random_90,10)]\n",
    "]\n",
    "et_log = pd.DataFrame(et_log_data, columns = cols)\n",
    "et_log.head()"
   ]
  },
  {
   "cell_type": "code",
   "execution_count": 264,
   "id": "5754d320",
   "metadata": {},
   "outputs": [
    {
     "data": {
      "text/html": [
       "<div>\n",
       "<style scoped>\n",
       "    .dataframe tbody tr th:only-of-type {\n",
       "        vertical-align: middle;\n",
       "    }\n",
       "\n",
       "    .dataframe tbody tr th {\n",
       "        vertical-align: top;\n",
       "    }\n",
       "\n",
       "    .dataframe thead th {\n",
       "        text-align: right;\n",
       "    }\n",
       "</style>\n",
       "<table border=\"1\" class=\"dataframe\">\n",
       "  <thead>\n",
       "    <tr style=\"text-align: right;\">\n",
       "      <th></th>\n",
       "      <th>Percentage_in_Training_Set</th>\n",
       "      <th>Median_Coded_Accuracies</th>\n",
       "      <th>Coded_Accuracies_Upper_Error</th>\n",
       "      <th>Coded_Accuracies_Lower_Error</th>\n",
       "      <th>Median_Random_Accuracies</th>\n",
       "      <th>Random_Accuracies_Upper_Error</th>\n",
       "      <th>Random_Accuracies_Lower_Error</th>\n",
       "    </tr>\n",
       "  </thead>\n",
       "  <tbody>\n",
       "    <tr>\n",
       "      <th>0</th>\n",
       "      <td>0.5</td>\n",
       "      <td>0.809524</td>\n",
       "      <td>0.031746</td>\n",
       "      <td>0.039683</td>\n",
       "      <td>0.674603</td>\n",
       "      <td>0.039683</td>\n",
       "      <td>0.047619</td>\n",
       "    </tr>\n",
       "    <tr>\n",
       "      <th>1</th>\n",
       "      <td>0.6</td>\n",
       "      <td>0.801325</td>\n",
       "      <td>0.033113</td>\n",
       "      <td>0.033113</td>\n",
       "      <td>0.668874</td>\n",
       "      <td>0.033113</td>\n",
       "      <td>0.046358</td>\n",
       "    </tr>\n",
       "    <tr>\n",
       "      <th>2</th>\n",
       "      <td>0.7</td>\n",
       "      <td>0.795455</td>\n",
       "      <td>0.028409</td>\n",
       "      <td>0.034091</td>\n",
       "      <td>0.659091</td>\n",
       "      <td>0.034091</td>\n",
       "      <td>0.045455</td>\n",
       "    </tr>\n",
       "    <tr>\n",
       "      <th>3</th>\n",
       "      <td>0.8</td>\n",
       "      <td>0.786070</td>\n",
       "      <td>0.029851</td>\n",
       "      <td>0.034826</td>\n",
       "      <td>0.641791</td>\n",
       "      <td>0.044776</td>\n",
       "      <td>0.049751</td>\n",
       "    </tr>\n",
       "    <tr>\n",
       "      <th>4</th>\n",
       "      <td>0.9</td>\n",
       "      <td>0.769912</td>\n",
       "      <td>0.030973</td>\n",
       "      <td>0.053097</td>\n",
       "      <td>0.628319</td>\n",
       "      <td>0.048673</td>\n",
       "      <td>0.057522</td>\n",
       "    </tr>\n",
       "  </tbody>\n",
       "</table>\n",
       "</div>"
      ],
      "text/plain": [
       "   Percentage_in_Training_Set  Median_Coded_Accuracies  \\\n",
       "0                         0.5                 0.809524   \n",
       "1                         0.6                 0.801325   \n",
       "2                         0.7                 0.795455   \n",
       "3                         0.8                 0.786070   \n",
       "4                         0.9                 0.769912   \n",
       "\n",
       "   Coded_Accuracies_Upper_Error  Coded_Accuracies_Lower_Error  \\\n",
       "0                      0.031746                      0.039683   \n",
       "1                      0.033113                      0.033113   \n",
       "2                      0.028409                      0.034091   \n",
       "3                      0.029851                      0.034826   \n",
       "4                      0.030973                      0.053097   \n",
       "\n",
       "   Median_Random_Accuracies  Random_Accuracies_Upper_Error  \\\n",
       "0                  0.674603                       0.039683   \n",
       "1                  0.668874                       0.033113   \n",
       "2                  0.659091                       0.034091   \n",
       "3                  0.641791                       0.044776   \n",
       "4                  0.628319                       0.048673   \n",
       "\n",
       "   Random_Accuracies_Lower_Error  \n",
       "0                       0.047619  \n",
       "1                       0.046358  \n",
       "2                       0.045455  \n",
       "3                       0.049751  \n",
       "4                       0.057522  "
      ]
     },
     "execution_count": 264,
     "metadata": {},
     "output_type": "execute_result"
    }
   ],
   "source": [
    "tg_log_data = [\n",
    "    [0.5, np.percentile(tg_log_coded_50, 50), np.percentile(tg_log_coded_50,90)-np.percentile(tg_log_coded_50,50), np.percentile(tg_log_coded_50,50)-np.percentile(tg_log_coded_50,10), np.percentile(tg_log_random_50, 50), np.percentile(tg_log_random_50,90)-np.percentile(tg_log_random_50,50), np.percentile(tg_log_random_50,50)-np.percentile(tg_log_random_50,10)],\n",
    "    [0.6, np.percentile(tg_log_coded_60, 50), np.percentile(tg_log_coded_60,90)-np.percentile(tg_log_coded_60,50), np.percentile(tg_log_coded_60,50)-np.percentile(tg_log_coded_60,10), np.percentile(tg_log_random_60, 50), np.percentile(tg_log_random_60,90)-np.percentile(tg_log_random_60,50), np.percentile(tg_log_random_60,50)-np.percentile(tg_log_random_60,10)],\n",
    "    [0.7, np.percentile(tg_log_coded_70, 50), np.percentile(tg_log_coded_70,90)-np.percentile(tg_log_coded_70,50), np.percentile(tg_log_coded_70,50)-np.percentile(tg_log_coded_70,10), np.percentile(tg_log_random_70, 50), np.percentile(tg_log_random_70,90)-np.percentile(tg_log_random_70,50), np.percentile(tg_log_random_70,50)-np.percentile(tg_log_random_70,10)],\n",
    "    [0.8, np.percentile(tg_log_coded_80, 50), np.percentile(tg_log_coded_80,90)-np.percentile(tg_log_coded_80,50), np.percentile(tg_log_coded_80,50)-np.percentile(tg_log_coded_80,10), np.percentile(tg_log_random_80, 50), np.percentile(tg_log_random_80,90)-np.percentile(tg_log_random_80,50), np.percentile(tg_log_random_80,50)-np.percentile(tg_log_random_80,10)],\n",
    "    [0.9, np.percentile(tg_log_coded_90, 50), np.percentile(tg_log_coded_90,90)-np.percentile(tg_log_coded_90,50), np.percentile(tg_log_coded_90,50)-np.percentile(tg_log_coded_90,10), np.percentile(tg_log_random_90, 50), np.percentile(tg_log_random_90,90)-np.percentile(tg_log_random_90,50), np.percentile(tg_log_random_90,50)-np.percentile(tg_log_random_90,10)]\n",
    "]\n",
    "tg_log = pd.DataFrame(tg_log_data, columns = cols)\n",
    "tg_log.head()"
   ]
  },
  {
   "cell_type": "code",
   "execution_count": 265,
   "id": "3c02c78b",
   "metadata": {},
   "outputs": [
    {
     "data": {
      "image/png": "[encoded data removed]",
      "text/plain": [
       "<Figure size 640x480 with 1 Axes>"
      ]
     },
     "metadata": {},
     "output_type": "display_data"
    }
   ],
   "source": [
    "bar_width = 0.35\n",
    "index = np.arange(len(cc_log[\"Percentage_in_Training_Set\"]))\n",
    "fig, ax = plt.subplots()\n",
    "bar1 = ax.bar(index, cc_log[\"Median_Coded_Accuracies\"], bar_width, yerr=[cc_log[\"Coded_Accuracies_Lower_Error\"], cc_log[\"Coded_Accuracies_Upper_Error\"]], label = 'Coded')\n",
    "bar2 = ax.bar(index + bar_width, cc_log['Median_Random_Accuracies'], bar_width, yerr=[cc_log[\"Random_Accuracies_Lower_Error\"],cc_log[\"Random_Accuracies_Upper_Error\"]], label = 'Random')\n",
    "\n",
    "ax.set_ylim(0,1)\n",
    "ax.set_xlabel(\"Percentage in Training Set\")\n",
    "ax.set_ylabel(\"Accuracies of Logistic Model\")\n",
    "ax.set_title(\"Accuracies for Coercive Conrol Using Logistic Regression\")\n",
    "ax.set_xticks(index + bar_width/2)\n",
    "ax.set_xticklabels(tg_rf['Percentage_in_Training_Set'])\n",
    "ax.legend()\n",
    "plt.show()"
   ]
  },
  {
   "cell_type": "code",
   "execution_count": 266,
   "id": "99e6e165",
   "metadata": {},
   "outputs": [
    {
     "data": {
      "image/png": "[encoded data removed]",
      "text/plain": [
       "<Figure size 640x480 with 1 Axes>"
      ]
     },
     "metadata": {},
     "output_type": "display_data"
    }
   ],
   "source": [
    "bar_width = 0.35\n",
    "index = np.arange(len(et_log[\"Percentage_in_Training_Set\"]))\n",
    "fig, ax = plt.subplots()\n",
    "bar1 = ax.bar(index, et_log[\"Median_Coded_Accuracies\"], bar_width, yerr=[et_log[\"Coded_Accuracies_Lower_Error\"],et_log[\"Coded_Accuracies_Upper_Error\"]], label = 'Coded')\n",
    "bar2 = ax.bar(index + bar_width, et_log['Median_Random_Accuracies'], bar_width, yerr=[et_log[\"Random_Accuracies_Lower_Error\"],et_log[\"Random_Accuracies_Upper_Error\"]], label = 'Random')\n",
    "\n",
    "ax.set_ylim(0,1)\n",
    "ax.set_xlabel(\"Percentage in Training Set\")\n",
    "ax.set_ylabel(\"Accuracies of Logistic Model\")\n",
    "ax.set_title(\"Accuracies for Existential Threat Using Logistic Regression\")\n",
    "ax.set_xticks(index + bar_width/2)\n",
    "ax.set_xticklabels(et_rf['Percentage_in_Training_Set'])\n",
    "ax.legend()\n",
    "plt.show()"
   ]
  },
  {
   "cell_type": "code",
   "execution_count": 267,
   "id": "edb80367",
   "metadata": {},
   "outputs": [
    {
     "data": {
      "image/png": "[encoded data removed]",
      "text/plain": [
       "<Figure size 640x480 with 1 Axes>"
      ]
     },
     "metadata": {},
     "output_type": "display_data"
    }
   ],
   "source": [
    "bar_width = 0.35\n",
    "index = np.arange(len(tg_log[\"Percentage_in_Training_Set\"]))\n",
    "fig, ax = plt.subplots()\n",
    "bar1 = ax.bar(index, tg_log[\"Median_Coded_Accuracies\"], bar_width, yerr=[tg_log[\"Coded_Accuracies_Lower_Error\"],tg_log[\"Coded_Accuracies_Upper_Error\"]], label = 'Coded')\n",
    "bar2 = ax.bar(index + bar_width, tg_log['Median_Random_Accuracies'], bar_width, yerr=[tg_log[\"Random_Accuracies_Lower_Error\"],tg_log[\"Random_Accuracies_Upper_Error\"]], label = 'Random')\n",
    "\n",
    "ax.set_ylim(0,1)\n",
    "ax.set_xlabel(\"Percentage in Training Set\")\n",
    "ax.set_ylabel(\"Accuracies of Logistic Model\")\n",
    "ax.set_title(\"Accuracies for Identified Target Group Using Logistic Regression\")\n",
    "ax.set_xticks(index + bar_width/2)\n",
    "ax.set_xticklabels(tg_rf['Percentage_in_Training_Set'])\n",
    "ax.legend()\n",
    "plt.show()"
   ]
  },
  {
   "cell_type": "code",
   "execution_count": 268,
   "id": "6e8dddaf",
   "metadata": {},
   "outputs": [
    {
     "data": {
      "text/html": [
       "<div>\n",
       "<style scoped>\n",
       "    .dataframe tbody tr th:only-of-type {\n",
       "        vertical-align: middle;\n",
       "    }\n",
       "\n",
       "    .dataframe tbody tr th {\n",
       "        vertical-align: top;\n",
       "    }\n",
       "\n",
       "    .dataframe thead th {\n",
       "        text-align: right;\n",
       "    }\n",
       "</style>\n",
       "<table border=\"1\" class=\"dataframe\">\n",
       "  <thead>\n",
       "    <tr style=\"text-align: right;\">\n",
       "      <th></th>\n",
       "      <th>Percentage_in_Training_Set</th>\n",
       "      <th>Median_Coded_Accuracies</th>\n",
       "      <th>Coded_Accuracies_Upper_Error</th>\n",
       "      <th>Coded_Accuracies_Lower_Error</th>\n",
       "      <th>Median_Random_Accuracies</th>\n",
       "      <th>Random_Accuracies_Upper_Error</th>\n",
       "      <th>Random_Accuracies_Lower_Error</th>\n",
       "    </tr>\n",
       "  </thead>\n",
       "  <tbody>\n",
       "    <tr>\n",
       "      <th>0</th>\n",
       "      <td>0.5</td>\n",
       "      <td>0.857143</td>\n",
       "      <td>0.039683</td>\n",
       "      <td>0.047619</td>\n",
       "      <td>0.666667</td>\n",
       "      <td>0.039683</td>\n",
       "      <td>0.039683</td>\n",
       "    </tr>\n",
       "    <tr>\n",
       "      <th>1</th>\n",
       "      <td>0.6</td>\n",
       "      <td>0.841060</td>\n",
       "      <td>0.039735</td>\n",
       "      <td>0.046358</td>\n",
       "      <td>0.668874</td>\n",
       "      <td>0.026490</td>\n",
       "      <td>0.039735</td>\n",
       "    </tr>\n",
       "    <tr>\n",
       "      <th>2</th>\n",
       "      <td>0.7</td>\n",
       "      <td>0.823864</td>\n",
       "      <td>0.034091</td>\n",
       "      <td>0.045455</td>\n",
       "      <td>0.664773</td>\n",
       "      <td>0.028409</td>\n",
       "      <td>0.039773</td>\n",
       "    </tr>\n",
       "    <tr>\n",
       "      <th>3</th>\n",
       "      <td>0.8</td>\n",
       "      <td>0.796020</td>\n",
       "      <td>0.039801</td>\n",
       "      <td>0.039801</td>\n",
       "      <td>0.666667</td>\n",
       "      <td>0.029851</td>\n",
       "      <td>0.049751</td>\n",
       "    </tr>\n",
       "    <tr>\n",
       "      <th>4</th>\n",
       "      <td>0.9</td>\n",
       "      <td>0.761062</td>\n",
       "      <td>0.039823</td>\n",
       "      <td>0.048673</td>\n",
       "      <td>0.668142</td>\n",
       "      <td>0.030973</td>\n",
       "      <td>0.084071</td>\n",
       "    </tr>\n",
       "  </tbody>\n",
       "</table>\n",
       "</div>"
      ],
      "text/plain": [
       "   Percentage_in_Training_Set  Median_Coded_Accuracies  \\\n",
       "0                         0.5                 0.857143   \n",
       "1                         0.6                 0.841060   \n",
       "2                         0.7                 0.823864   \n",
       "3                         0.8                 0.796020   \n",
       "4                         0.9                 0.761062   \n",
       "\n",
       "   Coded_Accuracies_Upper_Error  Coded_Accuracies_Lower_Error  \\\n",
       "0                      0.039683                      0.047619   \n",
       "1                      0.039735                      0.046358   \n",
       "2                      0.034091                      0.045455   \n",
       "3                      0.039801                      0.039801   \n",
       "4                      0.039823                      0.048673   \n",
       "\n",
       "   Median_Random_Accuracies  Random_Accuracies_Upper_Error  \\\n",
       "0                  0.666667                       0.039683   \n",
       "1                  0.668874                       0.026490   \n",
       "2                  0.664773                       0.028409   \n",
       "3                  0.666667                       0.029851   \n",
       "4                  0.668142                       0.030973   \n",
       "\n",
       "   Random_Accuracies_Lower_Error  \n",
       "0                       0.039683  \n",
       "1                       0.039735  \n",
       "2                       0.039773  \n",
       "3                       0.049751  \n",
       "4                       0.084071  "
      ]
     },
     "execution_count": 268,
     "metadata": {},
     "output_type": "execute_result"
    }
   ],
   "source": [
    "cc_rf_data = [\n",
    "    [0.5, np.percentile(cc_rf_coded_50, 50), np.percentile(cc_rf_coded_50,90)-np.percentile(cc_rf_coded_50,50), np.percentile(cc_rf_coded_50,50)-np.percentile(cc_rf_coded_50,10), np.percentile(cc_rf_random_50, 50), np.percentile(cc_rf_random_50,90)-np.percentile(cc_rf_random_50,50), np.percentile(cc_rf_random_50,50)-np.percentile(cc_rf_random_50,10)],\n",
    "    [0.6, np.percentile(cc_rf_coded_60, 50), np.percentile(cc_rf_coded_60,90)-np.percentile(cc_rf_coded_60,50), np.percentile(cc_rf_coded_60,50)-np.percentile(cc_rf_coded_60,10), np.percentile(cc_rf_random_60, 50), np.percentile(cc_rf_random_60,90)-np.percentile(cc_rf_random_60,50), np.percentile(cc_rf_random_60,50)-np.percentile(cc_rf_random_60,10)],\n",
    "    [0.7, np.percentile(cc_rf_coded_70, 50), np.percentile(cc_rf_coded_70,90)-np.percentile(cc_rf_coded_70,50), np.percentile(cc_rf_coded_70,50)-np.percentile(cc_rf_coded_70,10), np.percentile(cc_rf_random_70, 50), np.percentile(cc_rf_random_70,90)-np.percentile(cc_rf_random_70,50), np.percentile(cc_rf_random_70,50)-np.percentile(cc_rf_random_70,10)],\n",
    "    [0.8, np.percentile(cc_rf_coded_80, 50), np.percentile(cc_rf_coded_80,90)-np.percentile(cc_rf_coded_80,50), np.percentile(cc_rf_coded_80,50)-np.percentile(cc_rf_coded_80,10), np.percentile(cc_rf_random_80, 50), np.percentile(cc_rf_random_80,90)-np.percentile(cc_rf_random_80,50), np.percentile(cc_rf_random_80,50)-np.percentile(cc_rf_random_80,10)],\n",
    "    [0.9, np.percentile(cc_rf_coded_90, 50), np.percentile(cc_rf_coded_90,90)-np.percentile(cc_rf_coded_90,50), np.percentile(cc_rf_coded_90,50)-np.percentile(cc_rf_coded_90,10), np.percentile(cc_rf_random_90, 50), np.percentile(cc_rf_random_90,90)-np.percentile(cc_rf_random_90,50), np.percentile(cc_rf_random_90,50)-np.percentile(cc_rf_random_90,10)]\n",
    "]\n",
    "cc_rf = pd.DataFrame(cc_rf_data, columns = cols)\n",
    "cc_rf.head()"
   ]
  },
  {
   "cell_type": "code",
   "execution_count": 269,
   "id": "b01bd98d",
   "metadata": {},
   "outputs": [
    {
     "data": {
      "image/png": "[encoded data removed]",
      "text/plain": [
       "<Figure size 640x480 with 1 Axes>"
      ]
     },
     "metadata": {},
     "output_type": "display_data"
    }
   ],
   "source": [
    "bar_width = 0.35\n",
    "index = np.arange(len(cc_rf[\"Percentage_in_Training_Set\"]))\n",
    "fig, ax = plt.subplots()\n",
    "bar1 = ax.bar(index, cc_rf[\"Median_Coded_Accuracies\"], bar_width, yerr=[cc_rf[\"Coded_Accuracies_Lower_Error\"], cc_rf[\"Coded_Accuracies_Upper_Error\"]], label = 'Coded')\n",
    "bar2 = ax.bar(index + bar_width, cc_rf['Median_Random_Accuracies'], bar_width, yerr=[cc_rf[\"Random_Accuracies_Lower_Error\"],cc_rf[\"Random_Accuracies_Upper_Error\"]], label = 'Random')\n",
    "\n",
    "ax.set_ylim(0,1)\n",
    "ax.set_xlabel(\"Percentage in Training Set\")\n",
    "ax.set_ylabel(\"Accuracies of Random Forest Model\")\n",
    "ax.set_title(\"Accuracies for Coercive Conrol Using Random Forest\")\n",
    "ax.set_xticks(index + bar_width/2)\n",
    "ax.set_xticklabels(tg_rf['Percentage_in_Training_Set'])\n",
    "ax.legend()\n",
    "plt.show()"
   ]
  },
  {
   "cell_type": "code",
   "execution_count": 270,
   "id": "c8dcca1f",
   "metadata": {},
   "outputs": [
    {
     "data": {
      "text/html": [
       "<div>\n",
       "<style scoped>\n",
       "    .dataframe tbody tr th:only-of-type {\n",
       "        vertical-align: middle;\n",
       "    }\n",
       "\n",
       "    .dataframe tbody tr th {\n",
       "        vertical-align: top;\n",
       "    }\n",
       "\n",
       "    .dataframe thead th {\n",
       "        text-align: right;\n",
       "    }\n",
       "</style>\n",
       "<table border=\"1\" class=\"dataframe\">\n",
       "  <thead>\n",
       "    <tr style=\"text-align: right;\">\n",
       "      <th></th>\n",
       "      <th>Percentage_in_Training_Set</th>\n",
       "      <th>Median_Coded_Accuracies</th>\n",
       "      <th>Coded_Accuracies_Upper_Error</th>\n",
       "      <th>Coded_Accuracies_Lower_Error</th>\n",
       "      <th>Median_Random_Accuracies</th>\n",
       "      <th>Random_Accuracies_Upper_Error</th>\n",
       "      <th>Random_Accuracies_Lower_Error</th>\n",
       "    </tr>\n",
       "  </thead>\n",
       "  <tbody>\n",
       "    <tr>\n",
       "      <th>0</th>\n",
       "      <td>0.5</td>\n",
       "      <td>0.880952</td>\n",
       "      <td>0.031746</td>\n",
       "      <td>0.047619</td>\n",
       "      <td>0.809524</td>\n",
       "      <td>0.023810</td>\n",
       "      <td>0.031746</td>\n",
       "    </tr>\n",
       "    <tr>\n",
       "      <th>1</th>\n",
       "      <td>0.6</td>\n",
       "      <td>0.867550</td>\n",
       "      <td>0.039735</td>\n",
       "      <td>0.039735</td>\n",
       "      <td>0.807947</td>\n",
       "      <td>0.019868</td>\n",
       "      <td>0.026490</td>\n",
       "    </tr>\n",
       "    <tr>\n",
       "      <th>2</th>\n",
       "      <td>0.7</td>\n",
       "      <td>0.857955</td>\n",
       "      <td>0.034091</td>\n",
       "      <td>0.034091</td>\n",
       "      <td>0.801136</td>\n",
       "      <td>0.022727</td>\n",
       "      <td>0.017045</td>\n",
       "    </tr>\n",
       "    <tr>\n",
       "      <th>3</th>\n",
       "      <td>0.8</td>\n",
       "      <td>0.845771</td>\n",
       "      <td>0.029851</td>\n",
       "      <td>0.029851</td>\n",
       "      <td>0.805970</td>\n",
       "      <td>0.014925</td>\n",
       "      <td>0.024876</td>\n",
       "    </tr>\n",
       "    <tr>\n",
       "      <th>4</th>\n",
       "      <td>0.9</td>\n",
       "      <td>0.831858</td>\n",
       "      <td>0.026549</td>\n",
       "      <td>0.022124</td>\n",
       "      <td>0.809735</td>\n",
       "      <td>0.008850</td>\n",
       "      <td>0.044248</td>\n",
       "    </tr>\n",
       "  </tbody>\n",
       "</table>\n",
       "</div>"
      ],
      "text/plain": [
       "   Percentage_in_Training_Set  Median_Coded_Accuracies  \\\n",
       "0                         0.5                 0.880952   \n",
       "1                         0.6                 0.867550   \n",
       "2                         0.7                 0.857955   \n",
       "3                         0.8                 0.845771   \n",
       "4                         0.9                 0.831858   \n",
       "\n",
       "   Coded_Accuracies_Upper_Error  Coded_Accuracies_Lower_Error  \\\n",
       "0                      0.031746                      0.047619   \n",
       "1                      0.039735                      0.039735   \n",
       "2                      0.034091                      0.034091   \n",
       "3                      0.029851                      0.029851   \n",
       "4                      0.026549                      0.022124   \n",
       "\n",
       "   Median_Random_Accuracies  Random_Accuracies_Upper_Error  \\\n",
       "0                  0.809524                       0.023810   \n",
       "1                  0.807947                       0.019868   \n",
       "2                  0.801136                       0.022727   \n",
       "3                  0.805970                       0.014925   \n",
       "4                  0.809735                       0.008850   \n",
       "\n",
       "   Random_Accuracies_Lower_Error  \n",
       "0                       0.031746  \n",
       "1                       0.026490  \n",
       "2                       0.017045  \n",
       "3                       0.024876  \n",
       "4                       0.044248  "
      ]
     },
     "execution_count": 270,
     "metadata": {},
     "output_type": "execute_result"
    }
   ],
   "source": [
    "et_rf_data = [\n",
    "    [0.5, np.percentile(et_rf_coded_50, 50), np.percentile(et_rf_coded_50,90)-np.percentile(et_rf_coded_50,50), np.percentile(et_rf_coded_50,50)-np.percentile(et_rf_coded_50,10), np.percentile(et_rf_random_50, 50), np.percentile(et_rf_random_50,90)-np.percentile(et_rf_random_50,50), np.percentile(et_rf_random_50,50)-np.percentile(et_rf_random_50,10)],\n",
    "    [0.6, np.percentile(et_rf_coded_60, 50), np.percentile(et_rf_coded_60,90)-np.percentile(et_rf_coded_60,50), np.percentile(et_rf_coded_60,50)-np.percentile(et_rf_coded_60,10), np.percentile(et_rf_random_60, 50), np.percentile(et_rf_random_60,90)-np.percentile(et_rf_random_60,50), np.percentile(et_rf_random_60,50)-np.percentile(et_rf_random_60,10)],\n",
    "    [0.7, np.percentile(et_rf_coded_70, 50), np.percentile(et_rf_coded_70,90)-np.percentile(et_rf_coded_70,50), np.percentile(et_rf_coded_70,50)-np.percentile(et_rf_coded_70,10), np.percentile(et_rf_random_70, 50), np.percentile(et_rf_random_70,90)-np.percentile(et_rf_random_70,50), np.percentile(et_rf_random_70,50)-np.percentile(et_rf_random_70,10)],\n",
    "    [0.8, np.percentile(et_rf_coded_80, 50), np.percentile(et_rf_coded_80,90)-np.percentile(et_rf_coded_80,50), np.percentile(et_rf_coded_80,50)-np.percentile(et_rf_coded_80,10), np.percentile(et_rf_random_80, 50), np.percentile(et_rf_random_80,90)-np.percentile(et_rf_random_80,50), np.percentile(et_rf_random_80,50)-np.percentile(et_rf_random_80,10)],\n",
    "    [0.9, np.percentile(et_rf_coded_90, 50), np.percentile(et_rf_coded_90,90)-np.percentile(et_rf_coded_90,50), np.percentile(et_rf_coded_90,50)-np.percentile(et_rf_coded_90,10), np.percentile(et_rf_random_90, 50), np.percentile(et_rf_random_90,90)-np.percentile(et_rf_random_90,50), np.percentile(et_rf_random_90,50)-np.percentile(et_rf_random_90,10)]\n",
    "]\n",
    "et_rf = pd.DataFrame(et_rf_data, columns = cols)\n",
    "et_rf.head()"
   ]
  },
  {
   "cell_type": "code",
   "execution_count": 271,
   "id": "e9fc94f1",
   "metadata": {},
   "outputs": [
    {
     "data": {
      "image/png": "[encoded data removed]",
      "text/plain": [
       "<Figure size 640x480 with 1 Axes>"
      ]
     },
     "metadata": {},
     "output_type": "display_data"
    }
   ],
   "source": [
    "bar_width = 0.35\n",
    "index = np.arange(len(et_rf[\"Percentage_in_Training_Set\"]))\n",
    "fig, ax = plt.subplots()\n",
    "bar1 = ax.bar(index, et_rf[\"Median_Coded_Accuracies\"], bar_width, yerr=[et_rf[\"Coded_Accuracies_Lower_Error\"], et_rf[\"Coded_Accuracies_Upper_Error\"]], label = 'Coded')\n",
    "bar2 = ax.bar(index + bar_width, et_rf['Median_Random_Accuracies'], bar_width, yerr=[et_rf[\"Random_Accuracies_Lower_Error\"], et_rf[\"Random_Accuracies_Upper_Error\"]], label = 'Random')\n",
    "\n",
    "ax.set_ylim(0,1)\n",
    "ax.set_xlabel(\"Percentage in Training Set\")\n",
    "ax.set_ylabel(\"Accuracies of Random Forest Model\")\n",
    "ax.set_title(\"Accuracies for Existential Threat Using Random Forest\")\n",
    "ax.set_xticks(index + bar_width/2)\n",
    "ax.set_xticklabels(tg_rf['Percentage_in_Training_Set'])\n",
    "ax.legend()\n",
    "plt.show()"
   ]
  },
  {
   "cell_type": "code",
   "execution_count": 273,
   "id": "f7afa78e",
   "metadata": {},
   "outputs": [
    {
     "data": {
      "text/html": [
       "<div>\n",
       "<style scoped>\n",
       "    .dataframe tbody tr th:only-of-type {\n",
       "        vertical-align: middle;\n",
       "    }\n",
       "\n",
       "    .dataframe tbody tr th {\n",
       "        vertical-align: top;\n",
       "    }\n",
       "\n",
       "    .dataframe thead th {\n",
       "        text-align: right;\n",
       "    }\n",
       "</style>\n",
       "<table border=\"1\" class=\"dataframe\">\n",
       "  <thead>\n",
       "    <tr style=\"text-align: right;\">\n",
       "      <th></th>\n",
       "      <th>Percentage_in_Training_Set</th>\n",
       "      <th>Median_Coded_Accuracies</th>\n",
       "      <th>Coded_Accuracies_Upper_Error</th>\n",
       "      <th>Coded_Accuracies_Lower_Error</th>\n",
       "      <th>Median_Random_Accuracies</th>\n",
       "      <th>Random_Accuracies_Upper_Error</th>\n",
       "      <th>Random_Accuracies_Lower_Error</th>\n",
       "    </tr>\n",
       "  </thead>\n",
       "  <tbody>\n",
       "    <tr>\n",
       "      <th>0</th>\n",
       "      <td>0.5</td>\n",
       "      <td>0.857143</td>\n",
       "      <td>0.039683</td>\n",
       "      <td>0.039683</td>\n",
       "      <td>0.682540</td>\n",
       "      <td>0.031746</td>\n",
       "      <td>0.039683</td>\n",
       "    </tr>\n",
       "    <tr>\n",
       "      <th>1</th>\n",
       "      <td>0.6</td>\n",
       "      <td>0.847682</td>\n",
       "      <td>0.033113</td>\n",
       "      <td>0.039735</td>\n",
       "      <td>0.682119</td>\n",
       "      <td>0.026490</td>\n",
       "      <td>0.033113</td>\n",
       "    </tr>\n",
       "    <tr>\n",
       "      <th>2</th>\n",
       "      <td>0.7</td>\n",
       "      <td>0.829545</td>\n",
       "      <td>0.039773</td>\n",
       "      <td>0.039773</td>\n",
       "      <td>0.681818</td>\n",
       "      <td>0.028409</td>\n",
       "      <td>0.039773</td>\n",
       "    </tr>\n",
       "    <tr>\n",
       "      <th>3</th>\n",
       "      <td>0.8</td>\n",
       "      <td>0.810945</td>\n",
       "      <td>0.034826</td>\n",
       "      <td>0.044776</td>\n",
       "      <td>0.686567</td>\n",
       "      <td>0.024876</td>\n",
       "      <td>0.054726</td>\n",
       "    </tr>\n",
       "    <tr>\n",
       "      <th>4</th>\n",
       "      <td>0.9</td>\n",
       "      <td>0.774336</td>\n",
       "      <td>0.039823</td>\n",
       "      <td>0.044248</td>\n",
       "      <td>0.690265</td>\n",
       "      <td>0.026549</td>\n",
       "      <td>0.084071</td>\n",
       "    </tr>\n",
       "  </tbody>\n",
       "</table>\n",
       "</div>"
      ],
      "text/plain": [
       "   Percentage_in_Training_Set  Median_Coded_Accuracies  \\\n",
       "0                         0.5                 0.857143   \n",
       "1                         0.6                 0.847682   \n",
       "2                         0.7                 0.829545   \n",
       "3                         0.8                 0.810945   \n",
       "4                         0.9                 0.774336   \n",
       "\n",
       "   Coded_Accuracies_Upper_Error  Coded_Accuracies_Lower_Error  \\\n",
       "0                      0.039683                      0.039683   \n",
       "1                      0.033113                      0.039735   \n",
       "2                      0.039773                      0.039773   \n",
       "3                      0.034826                      0.044776   \n",
       "4                      0.039823                      0.044248   \n",
       "\n",
       "   Median_Random_Accuracies  Random_Accuracies_Upper_Error  \\\n",
       "0                  0.682540                       0.031746   \n",
       "1                  0.682119                       0.026490   \n",
       "2                  0.681818                       0.028409   \n",
       "3                  0.686567                       0.024876   \n",
       "4                  0.690265                       0.026549   \n",
       "\n",
       "   Random_Accuracies_Lower_Error  \n",
       "0                       0.039683  \n",
       "1                       0.033113  \n",
       "2                       0.039773  \n",
       "3                       0.054726  \n",
       "4                       0.084071  "
      ]
     },
     "execution_count": 273,
     "metadata": {},
     "output_type": "execute_result"
    }
   ],
   "source": [
    "tg_rf_data = [\n",
    "    [0.5, np.percentile(tg_rf_coded_50, 50), np.percentile(tg_rf_coded_50,90)-np.percentile(tg_rf_coded_50,50), np.percentile(tg_rf_coded_50,50)-np.percentile(tg_rf_coded_50,10), np.percentile(tg_rf_random_50, 50), np.percentile(tg_rf_random_50,90)-np.percentile(tg_rf_random_50,50), np.percentile(tg_rf_random_50,50)-np.percentile(tg_rf_random_50,10)],\n",
    "    [0.6, np.percentile(tg_rf_coded_60, 50), np.percentile(tg_rf_coded_60,90)-np.percentile(tg_rf_coded_60,50), np.percentile(tg_rf_coded_60,50)-np.percentile(tg_rf_coded_60,10), np.percentile(tg_rf_random_60, 50), np.percentile(tg_rf_random_60,90)-np.percentile(tg_rf_random_60,50), np.percentile(tg_rf_random_60,50)-np.percentile(tg_rf_random_60,10)],\n",
    "    [0.7, np.percentile(tg_rf_coded_70, 50), np.percentile(tg_rf_coded_70,90)-np.percentile(tg_rf_coded_70,50), np.percentile(tg_rf_coded_70,50)-np.percentile(tg_rf_coded_70,10), np.percentile(tg_rf_random_70, 50), np.percentile(tg_rf_random_70,90)-np.percentile(tg_rf_random_70,50), np.percentile(tg_rf_random_70,50)-np.percentile(tg_rf_random_70,10)],\n",
    "    [0.8, np.percentile(tg_rf_coded_80, 50), np.percentile(tg_rf_coded_80,90)-np.percentile(tg_rf_coded_80,50), np.percentile(tg_rf_coded_80,50)-np.percentile(tg_rf_coded_80,10), np.percentile(tg_rf_random_80, 50), np.percentile(tg_rf_random_80,90)-np.percentile(tg_rf_random_80,50), np.percentile(tg_rf_random_80,50)-np.percentile(tg_rf_random_80,10)],\n",
    "    [0.9, np.percentile(tg_rf_coded_90, 50), np.percentile(tg_rf_coded_90,90)-np.percentile(tg_rf_coded_90,50), np.percentile(tg_rf_coded_90,50)-np.percentile(tg_rf_coded_90,10), np.percentile(tg_rf_random_90, 50), np.percentile(tg_rf_random_90,90)-np.percentile(tg_rf_random_90,50), np.percentile(tg_rf_random_90,50)-np.percentile(tg_rf_random_90,10)]\n",
    "]\n",
    "tg_rf = pd.DataFrame(tg_rf_data, columns = cols)\n",
    "tg_rf.head()"
   ]
  },
  {
   "cell_type": "code",
   "execution_count": 274,
   "id": "c482f018",
   "metadata": {},
   "outputs": [
    {
     "data": {
      "image/png": "[encoded data removed]",
      "text/plain": [
       "<Figure size 640x480 with 1 Axes>"
      ]
     },
     "metadata": {},
     "output_type": "display_data"
    }
   ],
   "source": [
    "bar_width = 0.35\n",
    "index = np.arange(len(tg_rf[\"Percentage_in_Training_Set\"]))\n",
    "fig, ax = plt.subplots()\n",
    "bar1 = ax.bar(index, tg_rf[\"Median_Coded_Accuracies\"], bar_width, yerr=[tg_rf[\"Coded_Accuracies_Lower_Error\"], tg_rf[\"Coded_Accuracies_Upper_Error\"]], label = 'Coded')\n",
    "bar2 = ax.bar(index + bar_width, tg_rf['Median_Random_Accuracies'], bar_width, yerr=[tg_rf[\"Random_Accuracies_Lower_Error\"],tg_rf[\"Random_Accuracies_Upper_Error\"]], label = 'Random')\n",
    "\n",
    "ax.set_ylim(0,1)\n",
    "ax.set_xlabel(\"Percentage in Training Set\")\n",
    "ax.set_ylabel(\"Accuracies of Random Forest Model\")\n",
    "ax.set_title(\"Accuracies for Identified Target Group Using Random Forest\")\n",
    "ax.set_xticks(index + bar_width/2)\n",
    "ax.set_xticklabels(tg_rf['Percentage_in_Training_Set'])\n",
    "ax.legend()\n",
    "plt.show()"
   ]
  },
  {
   "cell_type": "code",
   "execution_count": null,
   "id": "2e0a9ebd",
   "metadata": {},
   "outputs": [],
   "source": []
  }
 ],
 "metadata": {
  "kernelspec": {
   "display_name": "Python 3 (ipykernel)",
   "language": "python",
   "name": "python3"
  },
  "language_info": {
   "codemirror_mode": {
    "name": "ipython",
    "version": 3
   },
   "file_extension": ".py",
   "mimetype": "text/x-python",
   "name": "python",
   "nbconvert_exporter": "python",
   "pygments_lexer": "ipython3",
   "version": "3.11.4"
  }
 },
 "nbformat": 4,
 "nbformat_minor": 5
}
